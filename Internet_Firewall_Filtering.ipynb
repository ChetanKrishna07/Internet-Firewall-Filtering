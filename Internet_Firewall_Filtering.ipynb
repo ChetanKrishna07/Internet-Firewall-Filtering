{
  "cells": [
    {
      "cell_type": "markdown",
      "metadata": {
        "id": "view-in-github",
        "colab_type": "text"
      },
      "source": [
        "<a href=\"https://colab.research.google.com/github/ChetanKrishna07/Internet-Firewall-Filtering/blob/main/Internet_Firewall_Filtering.ipynb\" target=\"_parent\"><img src=\"https://colab.research.google.com/assets/colab-badge.svg\" alt=\"Open In Colab\"/></a>"
      ]
    },
    {
      "cell_type": "markdown",
      "source": [
        "# Internet Firewall Filtering Using Ensembled Neural Networks\n",
        "Team:\n",
        "- Chetan Krishna (20BCE0338)\n",
        "- Chittala Naveen (20BCE0383)"
      ],
      "metadata": {
        "id": "32q1kVHgGUTD"
      }
    },
    {
      "cell_type": "markdown",
      "source": [
        "## Importing Libraries"
      ],
      "metadata": {
        "id": "IVHG7VKUGnsK"
      }
    },
    {
      "cell_type": "code",
      "execution_count": 1,
      "metadata": {
        "id": "XixPzLXTMC8w"
      },
      "outputs": [],
      "source": [
        "import numpy as np\n",
        "import pandas as pd\n",
        "import matplotlib.pyplot as plt\n",
        "import seaborn as sns"
      ]
    },
    {
      "cell_type": "markdown",
      "source": [
        "## Data Exporation and Pre-processing"
      ],
      "metadata": {
        "id": "mJCFBho6Gtz7"
      }
    },
    {
      "cell_type": "code",
      "execution_count": 2,
      "metadata": {
        "colab": {
          "base_uri": "https://localhost:8080/",
          "height": 206
        },
        "id": "SxHUuQ6oNDs0",
        "outputId": "c648d961-aaf5-4871-c59c-0b74186dd169"
      },
      "outputs": [
        {
          "output_type": "execute_result",
          "data": {
            "text/plain": [
              "   Source Port  Destination Port  NAT Source Port  NAT Destination Port  \\\n",
              "0        57222                53            54587                    53   \n",
              "1        56258              3389            56258                  3389   \n",
              "2         6881             50321            43265                 50321   \n",
              "3        50553              3389            50553                  3389   \n",
              "4        50002               443            45848                   443   \n",
              "\n",
              "  Action  Bytes  Bytes Sent  Bytes Received  Packets  Elapsed Time (sec)  \\\n",
              "0  allow    177          94              83        2                  30   \n",
              "1  allow   4768        1600            3168       19                  17   \n",
              "2  allow    238         118             120        2                1199   \n",
              "3  allow   3327        1438            1889       15                  17   \n",
              "4  allow  25358        6778           18580       31                  16   \n",
              "\n",
              "   pkts_sent  pkts_received  \n",
              "0          1              1  \n",
              "1         10              9  \n",
              "2          1              1  \n",
              "3          8              7  \n",
              "4         13             18  "
            ],
            "text/html": [
              "\n",
              "  <div id=\"df-25b3c0cc-2405-4e8c-b72b-9074fbfec8f9\">\n",
              "    <div class=\"colab-df-container\">\n",
              "      <div>\n",
              "<style scoped>\n",
              "    .dataframe tbody tr th:only-of-type {\n",
              "        vertical-align: middle;\n",
              "    }\n",
              "\n",
              "    .dataframe tbody tr th {\n",
              "        vertical-align: top;\n",
              "    }\n",
              "\n",
              "    .dataframe thead th {\n",
              "        text-align: right;\n",
              "    }\n",
              "</style>\n",
              "<table border=\"1\" class=\"dataframe\">\n",
              "  <thead>\n",
              "    <tr style=\"text-align: right;\">\n",
              "      <th></th>\n",
              "      <th>Source Port</th>\n",
              "      <th>Destination Port</th>\n",
              "      <th>NAT Source Port</th>\n",
              "      <th>NAT Destination Port</th>\n",
              "      <th>Action</th>\n",
              "      <th>Bytes</th>\n",
              "      <th>Bytes Sent</th>\n",
              "      <th>Bytes Received</th>\n",
              "      <th>Packets</th>\n",
              "      <th>Elapsed Time (sec)</th>\n",
              "      <th>pkts_sent</th>\n",
              "      <th>pkts_received</th>\n",
              "    </tr>\n",
              "  </thead>\n",
              "  <tbody>\n",
              "    <tr>\n",
              "      <th>0</th>\n",
              "      <td>57222</td>\n",
              "      <td>53</td>\n",
              "      <td>54587</td>\n",
              "      <td>53</td>\n",
              "      <td>allow</td>\n",
              "      <td>177</td>\n",
              "      <td>94</td>\n",
              "      <td>83</td>\n",
              "      <td>2</td>\n",
              "      <td>30</td>\n",
              "      <td>1</td>\n",
              "      <td>1</td>\n",
              "    </tr>\n",
              "    <tr>\n",
              "      <th>1</th>\n",
              "      <td>56258</td>\n",
              "      <td>3389</td>\n",
              "      <td>56258</td>\n",
              "      <td>3389</td>\n",
              "      <td>allow</td>\n",
              "      <td>4768</td>\n",
              "      <td>1600</td>\n",
              "      <td>3168</td>\n",
              "      <td>19</td>\n",
              "      <td>17</td>\n",
              "      <td>10</td>\n",
              "      <td>9</td>\n",
              "    </tr>\n",
              "    <tr>\n",
              "      <th>2</th>\n",
              "      <td>6881</td>\n",
              "      <td>50321</td>\n",
              "      <td>43265</td>\n",
              "      <td>50321</td>\n",
              "      <td>allow</td>\n",
              "      <td>238</td>\n",
              "      <td>118</td>\n",
              "      <td>120</td>\n",
              "      <td>2</td>\n",
              "      <td>1199</td>\n",
              "      <td>1</td>\n",
              "      <td>1</td>\n",
              "    </tr>\n",
              "    <tr>\n",
              "      <th>3</th>\n",
              "      <td>50553</td>\n",
              "      <td>3389</td>\n",
              "      <td>50553</td>\n",
              "      <td>3389</td>\n",
              "      <td>allow</td>\n",
              "      <td>3327</td>\n",
              "      <td>1438</td>\n",
              "      <td>1889</td>\n",
              "      <td>15</td>\n",
              "      <td>17</td>\n",
              "      <td>8</td>\n",
              "      <td>7</td>\n",
              "    </tr>\n",
              "    <tr>\n",
              "      <th>4</th>\n",
              "      <td>50002</td>\n",
              "      <td>443</td>\n",
              "      <td>45848</td>\n",
              "      <td>443</td>\n",
              "      <td>allow</td>\n",
              "      <td>25358</td>\n",
              "      <td>6778</td>\n",
              "      <td>18580</td>\n",
              "      <td>31</td>\n",
              "      <td>16</td>\n",
              "      <td>13</td>\n",
              "      <td>18</td>\n",
              "    </tr>\n",
              "  </tbody>\n",
              "</table>\n",
              "</div>\n",
              "      <button class=\"colab-df-convert\" onclick=\"convertToInteractive('df-25b3c0cc-2405-4e8c-b72b-9074fbfec8f9')\"\n",
              "              title=\"Convert this dataframe to an interactive table.\"\n",
              "              style=\"display:none;\">\n",
              "        \n",
              "  <svg xmlns=\"http://www.w3.org/2000/svg\" height=\"24px\"viewBox=\"0 0 24 24\"\n",
              "       width=\"24px\">\n",
              "    <path d=\"M0 0h24v24H0V0z\" fill=\"none\"/>\n",
              "    <path d=\"M18.56 5.44l.94 2.06.94-2.06 2.06-.94-2.06-.94-.94-2.06-.94 2.06-2.06.94zm-11 1L8.5 8.5l.94-2.06 2.06-.94-2.06-.94L8.5 2.5l-.94 2.06-2.06.94zm10 10l.94 2.06.94-2.06 2.06-.94-2.06-.94-.94-2.06-.94 2.06-2.06.94z\"/><path d=\"M17.41 7.96l-1.37-1.37c-.4-.4-.92-.59-1.43-.59-.52 0-1.04.2-1.43.59L10.3 9.45l-7.72 7.72c-.78.78-.78 2.05 0 2.83L4 21.41c.39.39.9.59 1.41.59.51 0 1.02-.2 1.41-.59l7.78-7.78 2.81-2.81c.8-.78.8-2.07 0-2.86zM5.41 20L4 18.59l7.72-7.72 1.47 1.35L5.41 20z\"/>\n",
              "  </svg>\n",
              "      </button>\n",
              "      \n",
              "  <style>\n",
              "    .colab-df-container {\n",
              "      display:flex;\n",
              "      flex-wrap:wrap;\n",
              "      gap: 12px;\n",
              "    }\n",
              "\n",
              "    .colab-df-convert {\n",
              "      background-color: #E8F0FE;\n",
              "      border: none;\n",
              "      border-radius: 50%;\n",
              "      cursor: pointer;\n",
              "      display: none;\n",
              "      fill: #1967D2;\n",
              "      height: 32px;\n",
              "      padding: 0 0 0 0;\n",
              "      width: 32px;\n",
              "    }\n",
              "\n",
              "    .colab-df-convert:hover {\n",
              "      background-color: #E2EBFA;\n",
              "      box-shadow: 0px 1px 2px rgba(60, 64, 67, 0.3), 0px 1px 3px 1px rgba(60, 64, 67, 0.15);\n",
              "      fill: #174EA6;\n",
              "    }\n",
              "\n",
              "    [theme=dark] .colab-df-convert {\n",
              "      background-color: #3B4455;\n",
              "      fill: #D2E3FC;\n",
              "    }\n",
              "\n",
              "    [theme=dark] .colab-df-convert:hover {\n",
              "      background-color: #434B5C;\n",
              "      box-shadow: 0px 1px 3px 1px rgba(0, 0, 0, 0.15);\n",
              "      filter: drop-shadow(0px 1px 2px rgba(0, 0, 0, 0.3));\n",
              "      fill: #FFFFFF;\n",
              "    }\n",
              "  </style>\n",
              "\n",
              "      <script>\n",
              "        const buttonEl =\n",
              "          document.querySelector('#df-25b3c0cc-2405-4e8c-b72b-9074fbfec8f9 button.colab-df-convert');\n",
              "        buttonEl.style.display =\n",
              "          google.colab.kernel.accessAllowed ? 'block' : 'none';\n",
              "\n",
              "        async function convertToInteractive(key) {\n",
              "          const element = document.querySelector('#df-25b3c0cc-2405-4e8c-b72b-9074fbfec8f9');\n",
              "          const dataTable =\n",
              "            await google.colab.kernel.invokeFunction('convertToInteractive',\n",
              "                                                     [key], {});\n",
              "          if (!dataTable) return;\n",
              "\n",
              "          const docLinkHtml = 'Like what you see? Visit the ' +\n",
              "            '<a target=\"_blank\" href=https://colab.research.google.com/notebooks/data_table.ipynb>data table notebook</a>'\n",
              "            + ' to learn more about interactive tables.';\n",
              "          element.innerHTML = '';\n",
              "          dataTable['output_type'] = 'display_data';\n",
              "          await google.colab.output.renderOutput(dataTable, element);\n",
              "          const docLink = document.createElement('div');\n",
              "          docLink.innerHTML = docLinkHtml;\n",
              "          element.appendChild(docLink);\n",
              "        }\n",
              "      </script>\n",
              "    </div>\n",
              "  </div>\n",
              "  "
            ]
          },
          "metadata": {},
          "execution_count": 2
        }
      ],
      "source": [
        "data = pd.read_csv(\"/content/drive/MyDrive/datasets/internet_firewall_data.csv\")\n",
        "data.head()"
      ]
    },
    {
      "cell_type": "code",
      "execution_count": 3,
      "metadata": {
        "colab": {
          "base_uri": "https://localhost:8080/",
          "height": 0
        },
        "id": "qXjap7ALNswu",
        "outputId": "1169048a-218b-4146-a946-59d1ca283867"
      },
      "outputs": [
        {
          "output_type": "stream",
          "name": "stdout",
          "text": [
            "<class 'pandas.core.frame.DataFrame'>\n",
            "RangeIndex: 65532 entries, 0 to 65531\n",
            "Data columns (total 12 columns):\n",
            " #   Column                Non-Null Count  Dtype \n",
            "---  ------                --------------  ----- \n",
            " 0   Source Port           65532 non-null  int64 \n",
            " 1   Destination Port      65532 non-null  int64 \n",
            " 2   NAT Source Port       65532 non-null  int64 \n",
            " 3   NAT Destination Port  65532 non-null  int64 \n",
            " 4   Action                65532 non-null  object\n",
            " 5   Bytes                 65532 non-null  int64 \n",
            " 6   Bytes Sent            65532 non-null  int64 \n",
            " 7   Bytes Received        65532 non-null  int64 \n",
            " 8   Packets               65532 non-null  int64 \n",
            " 9   Elapsed Time (sec)    65532 non-null  int64 \n",
            " 10  pkts_sent             65532 non-null  int64 \n",
            " 11  pkts_received         65532 non-null  int64 \n",
            "dtypes: int64(11), object(1)\n",
            "memory usage: 6.0+ MB\n"
          ]
        }
      ],
      "source": [
        "data.info()"
      ]
    },
    {
      "cell_type": "code",
      "execution_count": 4,
      "metadata": {
        "colab": {
          "base_uri": "https://localhost:8080/",
          "height": 394
        },
        "id": "azOho_tJNxt1",
        "outputId": "cf0199d0-ef38-4e2d-c3b4-18a28f73e97d"
      },
      "outputs": [
        {
          "output_type": "execute_result",
          "data": {
            "text/plain": [
              "                        count          mean           std   min      25%  \\\n",
              "Source Port           65532.0  49391.969343  1.525571e+04   0.0  49183.0   \n",
              "Destination Port      65532.0  10577.385812  1.846603e+04   0.0     80.0   \n",
              "NAT Source Port       65532.0  19282.972761  2.197069e+04   0.0      0.0   \n",
              "NAT Destination Port  65532.0   2671.049930  9.739162e+03   0.0      0.0   \n",
              "Bytes                 65532.0  97123.950085  5.618439e+06  60.0     66.0   \n",
              "Bytes Sent            65532.0  22385.796908  3.828139e+06  60.0     66.0   \n",
              "Bytes Received        65532.0  74738.153177  2.463208e+06   0.0      0.0   \n",
              "Packets               65532.0    102.866035  5.133002e+03   1.0      1.0   \n",
              "Elapsed Time (sec)    65532.0     65.833577  3.024618e+02   0.0      0.0   \n",
              "pkts_sent             65532.0     41.399530  3.218871e+03   1.0      1.0   \n",
              "pkts_received         65532.0     61.466505  2.223332e+03   0.0      0.0   \n",
              "\n",
              "                          50%       75%           max  \n",
              "Source Port           53776.5  58638.00  6.553400e+04  \n",
              "Destination Port        445.0  15000.00  6.553500e+04  \n",
              "NAT Source Port        8820.5  38366.25  6.553500e+04  \n",
              "NAT Destination Port     53.0    443.00  6.553500e+04  \n",
              "Bytes                   168.0    752.25  1.269359e+09  \n",
              "Bytes Sent               90.0    210.00  9.484772e+08  \n",
              "Bytes Received           79.0    449.00  3.208818e+08  \n",
              "Packets                   2.0      6.00  1.036116e+06  \n",
              "Elapsed Time (sec)       15.0     30.00  1.082400e+04  \n",
              "pkts_sent                 1.0      3.00  7.475200e+05  \n",
              "pkts_received             1.0      2.00  3.272080e+05  "
            ],
            "text/html": [
              "\n",
              "  <div id=\"df-4993d109-2a7c-45ed-be8d-be15cefe4ea8\">\n",
              "    <div class=\"colab-df-container\">\n",
              "      <div>\n",
              "<style scoped>\n",
              "    .dataframe tbody tr th:only-of-type {\n",
              "        vertical-align: middle;\n",
              "    }\n",
              "\n",
              "    .dataframe tbody tr th {\n",
              "        vertical-align: top;\n",
              "    }\n",
              "\n",
              "    .dataframe thead th {\n",
              "        text-align: right;\n",
              "    }\n",
              "</style>\n",
              "<table border=\"1\" class=\"dataframe\">\n",
              "  <thead>\n",
              "    <tr style=\"text-align: right;\">\n",
              "      <th></th>\n",
              "      <th>count</th>\n",
              "      <th>mean</th>\n",
              "      <th>std</th>\n",
              "      <th>min</th>\n",
              "      <th>25%</th>\n",
              "      <th>50%</th>\n",
              "      <th>75%</th>\n",
              "      <th>max</th>\n",
              "    </tr>\n",
              "  </thead>\n",
              "  <tbody>\n",
              "    <tr>\n",
              "      <th>Source Port</th>\n",
              "      <td>65532.0</td>\n",
              "      <td>49391.969343</td>\n",
              "      <td>1.525571e+04</td>\n",
              "      <td>0.0</td>\n",
              "      <td>49183.0</td>\n",
              "      <td>53776.5</td>\n",
              "      <td>58638.00</td>\n",
              "      <td>6.553400e+04</td>\n",
              "    </tr>\n",
              "    <tr>\n",
              "      <th>Destination Port</th>\n",
              "      <td>65532.0</td>\n",
              "      <td>10577.385812</td>\n",
              "      <td>1.846603e+04</td>\n",
              "      <td>0.0</td>\n",
              "      <td>80.0</td>\n",
              "      <td>445.0</td>\n",
              "      <td>15000.00</td>\n",
              "      <td>6.553500e+04</td>\n",
              "    </tr>\n",
              "    <tr>\n",
              "      <th>NAT Source Port</th>\n",
              "      <td>65532.0</td>\n",
              "      <td>19282.972761</td>\n",
              "      <td>2.197069e+04</td>\n",
              "      <td>0.0</td>\n",
              "      <td>0.0</td>\n",
              "      <td>8820.5</td>\n",
              "      <td>38366.25</td>\n",
              "      <td>6.553500e+04</td>\n",
              "    </tr>\n",
              "    <tr>\n",
              "      <th>NAT Destination Port</th>\n",
              "      <td>65532.0</td>\n",
              "      <td>2671.049930</td>\n",
              "      <td>9.739162e+03</td>\n",
              "      <td>0.0</td>\n",
              "      <td>0.0</td>\n",
              "      <td>53.0</td>\n",
              "      <td>443.00</td>\n",
              "      <td>6.553500e+04</td>\n",
              "    </tr>\n",
              "    <tr>\n",
              "      <th>Bytes</th>\n",
              "      <td>65532.0</td>\n",
              "      <td>97123.950085</td>\n",
              "      <td>5.618439e+06</td>\n",
              "      <td>60.0</td>\n",
              "      <td>66.0</td>\n",
              "      <td>168.0</td>\n",
              "      <td>752.25</td>\n",
              "      <td>1.269359e+09</td>\n",
              "    </tr>\n",
              "    <tr>\n",
              "      <th>Bytes Sent</th>\n",
              "      <td>65532.0</td>\n",
              "      <td>22385.796908</td>\n",
              "      <td>3.828139e+06</td>\n",
              "      <td>60.0</td>\n",
              "      <td>66.0</td>\n",
              "      <td>90.0</td>\n",
              "      <td>210.00</td>\n",
              "      <td>9.484772e+08</td>\n",
              "    </tr>\n",
              "    <tr>\n",
              "      <th>Bytes Received</th>\n",
              "      <td>65532.0</td>\n",
              "      <td>74738.153177</td>\n",
              "      <td>2.463208e+06</td>\n",
              "      <td>0.0</td>\n",
              "      <td>0.0</td>\n",
              "      <td>79.0</td>\n",
              "      <td>449.00</td>\n",
              "      <td>3.208818e+08</td>\n",
              "    </tr>\n",
              "    <tr>\n",
              "      <th>Packets</th>\n",
              "      <td>65532.0</td>\n",
              "      <td>102.866035</td>\n",
              "      <td>5.133002e+03</td>\n",
              "      <td>1.0</td>\n",
              "      <td>1.0</td>\n",
              "      <td>2.0</td>\n",
              "      <td>6.00</td>\n",
              "      <td>1.036116e+06</td>\n",
              "    </tr>\n",
              "    <tr>\n",
              "      <th>Elapsed Time (sec)</th>\n",
              "      <td>65532.0</td>\n",
              "      <td>65.833577</td>\n",
              "      <td>3.024618e+02</td>\n",
              "      <td>0.0</td>\n",
              "      <td>0.0</td>\n",
              "      <td>15.0</td>\n",
              "      <td>30.00</td>\n",
              "      <td>1.082400e+04</td>\n",
              "    </tr>\n",
              "    <tr>\n",
              "      <th>pkts_sent</th>\n",
              "      <td>65532.0</td>\n",
              "      <td>41.399530</td>\n",
              "      <td>3.218871e+03</td>\n",
              "      <td>1.0</td>\n",
              "      <td>1.0</td>\n",
              "      <td>1.0</td>\n",
              "      <td>3.00</td>\n",
              "      <td>7.475200e+05</td>\n",
              "    </tr>\n",
              "    <tr>\n",
              "      <th>pkts_received</th>\n",
              "      <td>65532.0</td>\n",
              "      <td>61.466505</td>\n",
              "      <td>2.223332e+03</td>\n",
              "      <td>0.0</td>\n",
              "      <td>0.0</td>\n",
              "      <td>1.0</td>\n",
              "      <td>2.00</td>\n",
              "      <td>3.272080e+05</td>\n",
              "    </tr>\n",
              "  </tbody>\n",
              "</table>\n",
              "</div>\n",
              "      <button class=\"colab-df-convert\" onclick=\"convertToInteractive('df-4993d109-2a7c-45ed-be8d-be15cefe4ea8')\"\n",
              "              title=\"Convert this dataframe to an interactive table.\"\n",
              "              style=\"display:none;\">\n",
              "        \n",
              "  <svg xmlns=\"http://www.w3.org/2000/svg\" height=\"24px\"viewBox=\"0 0 24 24\"\n",
              "       width=\"24px\">\n",
              "    <path d=\"M0 0h24v24H0V0z\" fill=\"none\"/>\n",
              "    <path d=\"M18.56 5.44l.94 2.06.94-2.06 2.06-.94-2.06-.94-.94-2.06-.94 2.06-2.06.94zm-11 1L8.5 8.5l.94-2.06 2.06-.94-2.06-.94L8.5 2.5l-.94 2.06-2.06.94zm10 10l.94 2.06.94-2.06 2.06-.94-2.06-.94-.94-2.06-.94 2.06-2.06.94z\"/><path d=\"M17.41 7.96l-1.37-1.37c-.4-.4-.92-.59-1.43-.59-.52 0-1.04.2-1.43.59L10.3 9.45l-7.72 7.72c-.78.78-.78 2.05 0 2.83L4 21.41c.39.39.9.59 1.41.59.51 0 1.02-.2 1.41-.59l7.78-7.78 2.81-2.81c.8-.78.8-2.07 0-2.86zM5.41 20L4 18.59l7.72-7.72 1.47 1.35L5.41 20z\"/>\n",
              "  </svg>\n",
              "      </button>\n",
              "      \n",
              "  <style>\n",
              "    .colab-df-container {\n",
              "      display:flex;\n",
              "      flex-wrap:wrap;\n",
              "      gap: 12px;\n",
              "    }\n",
              "\n",
              "    .colab-df-convert {\n",
              "      background-color: #E8F0FE;\n",
              "      border: none;\n",
              "      border-radius: 50%;\n",
              "      cursor: pointer;\n",
              "      display: none;\n",
              "      fill: #1967D2;\n",
              "      height: 32px;\n",
              "      padding: 0 0 0 0;\n",
              "      width: 32px;\n",
              "    }\n",
              "\n",
              "    .colab-df-convert:hover {\n",
              "      background-color: #E2EBFA;\n",
              "      box-shadow: 0px 1px 2px rgba(60, 64, 67, 0.3), 0px 1px 3px 1px rgba(60, 64, 67, 0.15);\n",
              "      fill: #174EA6;\n",
              "    }\n",
              "\n",
              "    [theme=dark] .colab-df-convert {\n",
              "      background-color: #3B4455;\n",
              "      fill: #D2E3FC;\n",
              "    }\n",
              "\n",
              "    [theme=dark] .colab-df-convert:hover {\n",
              "      background-color: #434B5C;\n",
              "      box-shadow: 0px 1px 3px 1px rgba(0, 0, 0, 0.15);\n",
              "      filter: drop-shadow(0px 1px 2px rgba(0, 0, 0, 0.3));\n",
              "      fill: #FFFFFF;\n",
              "    }\n",
              "  </style>\n",
              "\n",
              "      <script>\n",
              "        const buttonEl =\n",
              "          document.querySelector('#df-4993d109-2a7c-45ed-be8d-be15cefe4ea8 button.colab-df-convert');\n",
              "        buttonEl.style.display =\n",
              "          google.colab.kernel.accessAllowed ? 'block' : 'none';\n",
              "\n",
              "        async function convertToInteractive(key) {\n",
              "          const element = document.querySelector('#df-4993d109-2a7c-45ed-be8d-be15cefe4ea8');\n",
              "          const dataTable =\n",
              "            await google.colab.kernel.invokeFunction('convertToInteractive',\n",
              "                                                     [key], {});\n",
              "          if (!dataTable) return;\n",
              "\n",
              "          const docLinkHtml = 'Like what you see? Visit the ' +\n",
              "            '<a target=\"_blank\" href=https://colab.research.google.com/notebooks/data_table.ipynb>data table notebook</a>'\n",
              "            + ' to learn more about interactive tables.';\n",
              "          element.innerHTML = '';\n",
              "          dataTable['output_type'] = 'display_data';\n",
              "          await google.colab.output.renderOutput(dataTable, element);\n",
              "          const docLink = document.createElement('div');\n",
              "          docLink.innerHTML = docLinkHtml;\n",
              "          element.appendChild(docLink);\n",
              "        }\n",
              "      </script>\n",
              "    </div>\n",
              "  </div>\n",
              "  "
            ]
          },
          "metadata": {},
          "execution_count": 4
        }
      ],
      "source": [
        "data.describe().T"
      ]
    },
    {
      "cell_type": "code",
      "execution_count": 5,
      "metadata": {
        "colab": {
          "base_uri": "https://localhost:8080/",
          "height": 0
        },
        "id": "lsbwi6b6N4P-",
        "outputId": "03c48f56-e1fb-4ab2-e34a-92937138ac53"
      },
      "outputs": [
        {
          "output_type": "execute_result",
          "data": {
            "text/plain": [
              "58638    1.281817\n",
              "27005    0.782824\n",
              "443      0.416590\n",
              "57470    0.338766\n",
              "49418    0.320454\n",
              "           ...   \n",
              "32996    0.001526\n",
              "60574    0.001526\n",
              "60570    0.001526\n",
              "65368    0.001526\n",
              "54871    0.001526\n",
              "Name: Source Port, Length: 22724, dtype: float64"
            ]
          },
          "metadata": {},
          "execution_count": 5
        }
      ],
      "source": [
        "data['Source Port'].value_counts(normalize=True)*100"
      ]
    },
    {
      "cell_type": "code",
      "execution_count": 6,
      "metadata": {
        "colab": {
          "base_uri": "https://localhost:8080/",
          "height": 0
        },
        "id": "OuJ_jM1gOAO9",
        "outputId": "258f2908-a3df-4e8a-dee5-208b97d56d92"
      },
      "outputs": [
        {
          "output_type": "execute_result",
          "data": {
            "text/plain": [
              "53       23.521333\n",
              "445      19.671306\n",
              "443      17.829457\n",
              "80        6.157297\n",
              "25174     1.658732\n",
              "           ...    \n",
              "20009     0.001526\n",
              "48608     0.001526\n",
              "10016     0.001526\n",
              "13384     0.001526\n",
              "22455     0.001526\n",
              "Name: Destination Port, Length: 3273, dtype: float64"
            ]
          },
          "metadata": {},
          "execution_count": 6
        }
      ],
      "source": [
        "data['Destination Port'].value_counts(normalize=True)*100"
      ]
    },
    {
      "cell_type": "code",
      "execution_count": 7,
      "metadata": {
        "colab": {
          "base_uri": "https://localhost:8080/",
          "height": 0
        },
        "id": "-jPpzdGhOURU",
        "outputId": "b9dfdc9c-8d96-4573-e7a7-648290576351"
      },
      "outputs": [
        {
          "output_type": "execute_result",
          "data": {
            "text/plain": [
              "0        43.386437\n",
              "48817     0.126656\n",
              "58638     0.077825\n",
              "50116     0.022890\n",
              "7986      0.007630\n",
              "           ...    \n",
              "2063      0.001526\n",
              "33661     0.001526\n",
              "36797     0.001526\n",
              "14122     0.001526\n",
              "13485     0.001526\n",
              "Name: NAT Source Port, Length: 29152, dtype: float64"
            ]
          },
          "metadata": {},
          "execution_count": 7
        }
      ],
      "source": [
        "data['NAT Source Port'].value_counts(normalize=True)*100"
      ]
    },
    {
      "cell_type": "code",
      "execution_count": 8,
      "metadata": {
        "colab": {
          "base_uri": "https://localhost:8080/",
          "height": 0
        },
        "id": "fOTNMfZDOXCW",
        "outputId": "2f48db82-a55d-4087-947e-050831067b55"
      },
      "outputs": [
        {
          "output_type": "execute_result",
          "data": {
            "text/plain": [
              "0        43.386437\n",
              "53       23.033022\n",
              "443      17.820302\n",
              "80        6.146615\n",
              "27015     0.357077\n",
              "           ...    \n",
              "45561     0.001526\n",
              "45738     0.001526\n",
              "41872     0.001526\n",
              "25760     0.001526\n",
              "32277     0.001526\n",
              "Name: NAT Destination Port, Length: 2533, dtype: float64"
            ]
          },
          "metadata": {},
          "execution_count": 8
        }
      ],
      "source": [
        "data['NAT Destination Port'].value_counts(normalize=True)*100"
      ]
    },
    {
      "cell_type": "code",
      "execution_count": 9,
      "metadata": {
        "colab": {
          "base_uri": "https://localhost:8080/",
          "height": 0
        },
        "id": "w2FQyB6AOZDu",
        "outputId": "6bdc407a-00b2-427a-8200-1625011b2f6f"
      },
      "outputs": [
        {
          "output_type": "execute_result",
          "data": {
            "text/plain": [
              "Source Port             0\n",
              "Destination Port        0\n",
              "NAT Source Port         0\n",
              "NAT Destination Port    0\n",
              "Action                  0\n",
              "Bytes                   0\n",
              "Bytes Sent              0\n",
              "Bytes Received          0\n",
              "Packets                 0\n",
              "Elapsed Time (sec)      0\n",
              "pkts_sent               0\n",
              "pkts_received           0\n",
              "dtype: int64"
            ]
          },
          "metadata": {},
          "execution_count": 9
        }
      ],
      "source": [
        "data.isna().sum()"
      ]
    },
    {
      "cell_type": "code",
      "execution_count": 10,
      "metadata": {
        "colab": {
          "base_uri": "https://localhost:8080/",
          "height": 0
        },
        "id": "HC_T6ejBO2Wq",
        "outputId": "c57b873a-91de-4e6e-bac0-1b1cff434617"
      },
      "outputs": [
        {
          "output_type": "execute_result",
          "data": {
            "text/plain": [
              "1        45.518220\n",
              "2        25.375389\n",
              "4         2.826100\n",
              "6         1.644998\n",
              "19        1.124641\n",
              "           ...    \n",
              "45399     0.001526\n",
              "12752     0.001526\n",
              "11272     0.001526\n",
              "31568     0.001526\n",
              "4675      0.001526\n",
              "Name: Packets, Length: 1116, dtype: float64"
            ]
          },
          "metadata": {},
          "execution_count": 10
        }
      ],
      "source": [
        "data['Packets'].value_counts(normalize=True)*100"
      ]
    },
    {
      "cell_type": "code",
      "execution_count": 11,
      "metadata": {
        "colab": {
          "base_uri": "https://localhost:8080/",
          "height": 0
        },
        "id": "Uv2zuwrLQLAw",
        "outputId": "4d44bf1c-c94f-4626-ea21-fc99761420f2"
      },
      "outputs": [
        {
          "output_type": "execute_result",
          "data": {
            "text/plain": [
              "1       69.054813\n",
              "2        4.439053\n",
              "3        2.206556\n",
              "11       1.939510\n",
              "6        1.828115\n",
              "          ...    \n",
              "939      0.001526\n",
              "354      0.001526\n",
              "1118     0.001526\n",
              "3853     0.001526\n",
              "985      0.001526\n",
              "Name: pkts_sent, Length: 749, dtype: float64"
            ]
          },
          "metadata": {},
          "execution_count": 11
        }
      ],
      "source": [
        "data['pkts_sent'].value_counts(normalize=True)*100"
      ]
    },
    {
      "cell_type": "code",
      "execution_count": 12,
      "metadata": {
        "colab": {
          "base_uri": "https://localhost:8080/",
          "height": 0
        },
        "id": "lFdfqASmQZZB",
        "outputId": "051b2398-653e-4d60-cefb-32ac6a4f030c"
      },
      "outputs": [
        {
          "output_type": "execute_result",
          "data": {
            "text/plain": [
              "0       48.181041\n",
              "1       24.644449\n",
              "2        2.887139\n",
              "8        1.939510\n",
              "3        1.838796\n",
              "          ...    \n",
              "798      0.001526\n",
              "705      0.001526\n",
              "604      0.001526\n",
              "315      0.001526\n",
              "3690     0.001526\n",
              "Name: pkts_received, Length: 922, dtype: float64"
            ]
          },
          "metadata": {},
          "execution_count": 12
        }
      ],
      "source": [
        "data['pkts_received'].value_counts(normalize=True)*100"
      ]
    },
    {
      "cell_type": "code",
      "execution_count": 13,
      "metadata": {
        "colab": {
          "base_uri": "https://localhost:8080/",
          "height": 524
        },
        "id": "AYZJ_C3eRB_Y",
        "outputId": "ed17194d-d698-45bf-e02a-d97cf0a8d5d7"
      },
      "outputs": [
        {
          "output_type": "execute_result",
          "data": {
            "text/plain": [
              "<Axes: xlabel='Action'>"
            ]
          },
          "metadata": {},
          "execution_count": 13
        },
        {
          "output_type": "display_data",
          "data": {
            "text/plain": [
              "<Figure size 640x480 with 1 Axes>"
            ],
            "image/png": "[encoded data removed]"
          },
          "metadata": {}
        }
      ],
      "source": [
        "data.groupby('Action')['Source Port'].count().plot(kind='bar')"
      ]
    },
    {
      "cell_type": "code",
      "execution_count": 14,
      "metadata": {
        "colab": {
          "base_uri": "https://localhost:8080/",
          "height": 0
        },
        "id": "mFIzOpMpRO_N",
        "outputId": "17524c1f-43f3-4f8a-ef3a-aa321239b297"
      },
      "outputs": [
        {
          "output_type": "execute_result",
          "data": {
            "text/plain": [
              "allow         37640\n",
              "deny          14987\n",
              "drop          12851\n",
              "reset-both       54\n",
              "Name: Action, dtype: int64"
            ]
          },
          "metadata": {},
          "execution_count": 14
        }
      ],
      "source": [
        "data.Action.value_counts()"
      ]
    },
    {
      "cell_type": "code",
      "source": [
        "data = data[data.Action != \"reset-both\"]"
      ],
      "metadata": {
        "id": "C0hAJ7B4Yk9H"
      },
      "execution_count": 15,
      "outputs": []
    },
    {
      "cell_type": "code",
      "execution_count": 17,
      "metadata": {
        "id": "i9vP_p6oHLos",
        "colab": {
          "base_uri": "https://localhost:8080/",
          "height": 0
        },
        "outputId": "4497ba4e-edd7-47ae-9378-b85ca08735c0"
      },
      "outputs": [
        {
          "output_type": "stream",
          "name": "stderr",
          "text": [
            "<ipython-input-17-ff8d1e406933>:1: SettingWithCopyWarning: \n",
            "A value is trying to be set on a copy of a slice from a DataFrame.\n",
            "Try using .loc[row_indexer,col_indexer] = value instead\n",
            "\n",
            "See the caveats in the documentation: https://pandas.pydata.org/pandas-docs/stable/user_guide/indexing.html#returning-a-view-versus-a-copy\n",
            "  data['Source Port'] = data['Source Port'].astype(\"str\")\n",
            "<ipython-input-17-ff8d1e406933>:2: SettingWithCopyWarning: \n",
            "A value is trying to be set on a copy of a slice from a DataFrame.\n",
            "Try using .loc[row_indexer,col_indexer] = value instead\n",
            "\n",
            "See the caveats in the documentation: https://pandas.pydata.org/pandas-docs/stable/user_guide/indexing.html#returning-a-view-versus-a-copy\n",
            "  data['Destination Port'] = data['Destination Port'].astype(\"str\")\n"
          ]
        }
      ],
      "source": [
        "data['Source Port'] = data['Source Port'].astype(\"str\")\n",
        "data['Destination Port'] = data['Destination Port'].astype(\"str\")\n",
        "data['NAT Source Port'] = data['NAT Source Port'].astype(\"str\")\n",
        "data['NAT Destination Port'] = data['NAT Destination Port'].astype(\"str\")"
      ]
    },
    {
      "cell_type": "code",
      "execution_count": 18,
      "metadata": {
        "colab": {
          "base_uri": "https://localhost:8080/",
          "height": 0
        },
        "id": "b-ITx282Hc6Y",
        "outputId": "5255a6d9-b558-4390-869d-81ca96e879fe"
      },
      "outputs": [
        {
          "output_type": "stream",
          "name": "stdout",
          "text": [
            "<class 'pandas.core.frame.DataFrame'>\n",
            "Int64Index: 65478 entries, 0 to 65531\n",
            "Data columns (total 12 columns):\n",
            " #   Column                Non-Null Count  Dtype \n",
            "---  ------                --------------  ----- \n",
            " 0   Source Port           65478 non-null  object\n",
            " 1   Destination Port      65478 non-null  object\n",
            " 2   NAT Source Port       65478 non-null  object\n",
            " 3   NAT Destination Port  65478 non-null  object\n",
            " 4   Action                65478 non-null  object\n",
            " 5   Bytes                 65478 non-null  int64 \n",
            " 6   Bytes Sent            65478 non-null  int64 \n",
            " 7   Bytes Received        65478 non-null  int64 \n",
            " 8   Packets               65478 non-null  int64 \n",
            " 9   Elapsed Time (sec)    65478 non-null  int64 \n",
            " 10  pkts_sent             65478 non-null  int64 \n",
            " 11  pkts_received         65478 non-null  int64 \n",
            "dtypes: int64(7), object(5)\n",
            "memory usage: 6.5+ MB\n"
          ]
        }
      ],
      "source": [
        "data.info()"
      ]
    },
    {
      "cell_type": "code",
      "execution_count": 19,
      "metadata": {
        "colab": {
          "base_uri": "https://localhost:8080/",
          "height": 363
        },
        "id": "WzOYicpdKe58",
        "outputId": "7e805f91-f0d1-4aa3-b86c-067edb6d5a49"
      },
      "outputs": [
        {
          "output_type": "execute_result",
          "data": {
            "text/plain": [
              "       Source Port\n",
              "58638     1.282874\n",
              "27005     0.783469\n",
              "443       0.416934\n",
              "57470     0.339045\n",
              "49418     0.320718\n",
              "6881      0.270320\n",
              "0         0.264211\n",
              "50584     0.177159\n",
              "3478      0.160359\n",
              "26900     0.155778"
            ],
            "text/html": [
              "\n",
              "  <div id=\"df-29d60e2c-0245-40e1-9653-8f2adb78d05b\">\n",
              "    <div class=\"colab-df-container\">\n",
              "      <div>\n",
              "<style scoped>\n",
              "    .dataframe tbody tr th:only-of-type {\n",
              "        vertical-align: middle;\n",
              "    }\n",
              "\n",
              "    .dataframe tbody tr th {\n",
              "        vertical-align: top;\n",
              "    }\n",
              "\n",
              "    .dataframe thead th {\n",
              "        text-align: right;\n",
              "    }\n",
              "</style>\n",
              "<table border=\"1\" class=\"dataframe\">\n",
              "  <thead>\n",
              "    <tr style=\"text-align: right;\">\n",
              "      <th></th>\n",
              "      <th>Source Port</th>\n",
              "    </tr>\n",
              "  </thead>\n",
              "  <tbody>\n",
              "    <tr>\n",
              "      <th>58638</th>\n",
              "      <td>1.282874</td>\n",
              "    </tr>\n",
              "    <tr>\n",
              "      <th>27005</th>\n",
              "      <td>0.783469</td>\n",
              "    </tr>\n",
              "    <tr>\n",
              "      <th>443</th>\n",
              "      <td>0.416934</td>\n",
              "    </tr>\n",
              "    <tr>\n",
              "      <th>57470</th>\n",
              "      <td>0.339045</td>\n",
              "    </tr>\n",
              "    <tr>\n",
              "      <th>49418</th>\n",
              "      <td>0.320718</td>\n",
              "    </tr>\n",
              "    <tr>\n",
              "      <th>6881</th>\n",
              "      <td>0.270320</td>\n",
              "    </tr>\n",
              "    <tr>\n",
              "      <th>0</th>\n",
              "      <td>0.264211</td>\n",
              "    </tr>\n",
              "    <tr>\n",
              "      <th>50584</th>\n",
              "      <td>0.177159</td>\n",
              "    </tr>\n",
              "    <tr>\n",
              "      <th>3478</th>\n",
              "      <td>0.160359</td>\n",
              "    </tr>\n",
              "    <tr>\n",
              "      <th>26900</th>\n",
              "      <td>0.155778</td>\n",
              "    </tr>\n",
              "  </tbody>\n",
              "</table>\n",
              "</div>\n",
              "      <button class=\"colab-df-convert\" onclick=\"convertToInteractive('df-29d60e2c-0245-40e1-9653-8f2adb78d05b')\"\n",
              "              title=\"Convert this dataframe to an interactive table.\"\n",
              "              style=\"display:none;\">\n",
              "        \n",
              "  <svg xmlns=\"http://www.w3.org/2000/svg\" height=\"24px\"viewBox=\"0 0 24 24\"\n",
              "       width=\"24px\">\n",
              "    <path d=\"M0 0h24v24H0V0z\" fill=\"none\"/>\n",
              "    <path d=\"M18.56 5.44l.94 2.06.94-2.06 2.06-.94-2.06-.94-.94-2.06-.94 2.06-2.06.94zm-11 1L8.5 8.5l.94-2.06 2.06-.94-2.06-.94L8.5 2.5l-.94 2.06-2.06.94zm10 10l.94 2.06.94-2.06 2.06-.94-2.06-.94-.94-2.06-.94 2.06-2.06.94z\"/><path d=\"M17.41 7.96l-1.37-1.37c-.4-.4-.92-.59-1.43-.59-.52 0-1.04.2-1.43.59L10.3 9.45l-7.72 7.72c-.78.78-.78 2.05 0 2.83L4 21.41c.39.39.9.59 1.41.59.51 0 1.02-.2 1.41-.59l7.78-7.78 2.81-2.81c.8-.78.8-2.07 0-2.86zM5.41 20L4 18.59l7.72-7.72 1.47 1.35L5.41 20z\"/>\n",
              "  </svg>\n",
              "      </button>\n",
              "      \n",
              "  <style>\n",
              "    .colab-df-container {\n",
              "      display:flex;\n",
              "      flex-wrap:wrap;\n",
              "      gap: 12px;\n",
              "    }\n",
              "\n",
              "    .colab-df-convert {\n",
              "      background-color: #E8F0FE;\n",
              "      border: none;\n",
              "      border-radius: 50%;\n",
              "      cursor: pointer;\n",
              "      display: none;\n",
              "      fill: #1967D2;\n",
              "      height: 32px;\n",
              "      padding: 0 0 0 0;\n",
              "      width: 32px;\n",
              "    }\n",
              "\n",
              "    .colab-df-convert:hover {\n",
              "      background-color: #E2EBFA;\n",
              "      box-shadow: 0px 1px 2px rgba(60, 64, 67, 0.3), 0px 1px 3px 1px rgba(60, 64, 67, 0.15);\n",
              "      fill: #174EA6;\n",
              "    }\n",
              "\n",
              "    [theme=dark] .colab-df-convert {\n",
              "      background-color: #3B4455;\n",
              "      fill: #D2E3FC;\n",
              "    }\n",
              "\n",
              "    [theme=dark] .colab-df-convert:hover {\n",
              "      background-color: #434B5C;\n",
              "      box-shadow: 0px 1px 3px 1px rgba(0, 0, 0, 0.15);\n",
              "      filter: drop-shadow(0px 1px 2px rgba(0, 0, 0, 0.3));\n",
              "      fill: #FFFFFF;\n",
              "    }\n",
              "  </style>\n",
              "\n",
              "      <script>\n",
              "        const buttonEl =\n",
              "          document.querySelector('#df-29d60e2c-0245-40e1-9653-8f2adb78d05b button.colab-df-convert');\n",
              "        buttonEl.style.display =\n",
              "          google.colab.kernel.accessAllowed ? 'block' : 'none';\n",
              "\n",
              "        async function convertToInteractive(key) {\n",
              "          const element = document.querySelector('#df-29d60e2c-0245-40e1-9653-8f2adb78d05b');\n",
              "          const dataTable =\n",
              "            await google.colab.kernel.invokeFunction('convertToInteractive',\n",
              "                                                     [key], {});\n",
              "          if (!dataTable) return;\n",
              "\n",
              "          const docLinkHtml = 'Like what you see? Visit the ' +\n",
              "            '<a target=\"_blank\" href=https://colab.research.google.com/notebooks/data_table.ipynb>data table notebook</a>'\n",
              "            + ' to learn more about interactive tables.';\n",
              "          element.innerHTML = '';\n",
              "          dataTable['output_type'] = 'display_data';\n",
              "          await google.colab.output.renderOutput(dataTable, element);\n",
              "          const docLink = document.createElement('div');\n",
              "          docLink.innerHTML = docLinkHtml;\n",
              "          element.appendChild(docLink);\n",
              "        }\n",
              "      </script>\n",
              "    </div>\n",
              "  </div>\n",
              "  "
            ]
          },
          "metadata": {},
          "execution_count": 19
        }
      ],
      "source": [
        "pd.DataFrame(data['Source Port'].value_counts(normalize=True)*100).head(10)"
      ]
    },
    {
      "cell_type": "code",
      "execution_count": 20,
      "metadata": {
        "colab": {
          "base_uri": "https://localhost:8080/",
          "height": 0
        },
        "id": "ibaPAHN0KmWY",
        "outputId": "de6232ee-4d78-4dc9-f684-c96a8e9f9e2e"
      },
      "outputs": [
        {
          "output_type": "stream",
          "name": "stderr",
          "text": [
            "<ipython-input-20-8af7c71a8631>:1: SettingWithCopyWarning: \n",
            "A value is trying to be set on a copy of a slice from a DataFrame\n",
            "\n",
            "See the caveats in the documentation: https://pandas.pydata.org/pandas-docs/stable/user_guide/indexing.html#returning-a-view-versus-a-copy\n",
            "  data['Source Port'][(data['Source Port'] != '58638') & (data['Source Port'] != '27005') & (data['Source Port'] != '443') & (data['Source Port'] != '57470') & (data['Source Port'] != '49418')] = \"others\"\n"
          ]
        }
      ],
      "source": [
        "data['Source Port'][(data['Source Port'] != '58638') & (data['Source Port'] != '27005') & (data['Source Port'] != '443') & (data['Source Port'] != '57470') & (data['Source Port'] != '49418')] = \"others\""
      ]
    },
    {
      "cell_type": "code",
      "execution_count": 21,
      "metadata": {
        "colab": {
          "base_uri": "https://localhost:8080/",
          "height": 0
        },
        "id": "-a65_7GhMUS9",
        "outputId": "a1441133-4535-4617-91df-beca934f58da"
      },
      "outputs": [
        {
          "output_type": "execute_result",
          "data": {
            "text/plain": [
              "others    0.968570\n",
              "58638     0.012829\n",
              "27005     0.007835\n",
              "443       0.004169\n",
              "57470     0.003390\n",
              "49418     0.003207\n",
              "Name: Source Port, dtype: float64"
            ]
          },
          "metadata": {},
          "execution_count": 21
        }
      ],
      "source": [
        "data['Source Port'].value_counts(normalize=True)"
      ]
    },
    {
      "cell_type": "code",
      "execution_count": 22,
      "metadata": {
        "colab": {
          "base_uri": "https://localhost:8080/",
          "height": 0
        },
        "id": "cgkhzCp0MazT",
        "outputId": "a4b12ebf-c47a-4dad-ead1-4a275cd5c018"
      },
      "outputs": [
        {
          "output_type": "execute_result",
          "data": {
            "text/plain": [
              "53       23.540731\n",
              "445      19.687529\n",
              "443      17.844161\n",
              "80        6.162375\n",
              "25174     1.660100\n",
              "           ...    \n",
              "3363      0.001527\n",
              "48608     0.001527\n",
              "20009     0.001527\n",
              "10016     0.001527\n",
              "22455     0.001527\n",
              "Name: Destination Port, Length: 3264, dtype: float64"
            ]
          },
          "metadata": {},
          "execution_count": 22
        }
      ],
      "source": [
        "data['Destination Port'].value_counts(normalize=True)*100"
      ]
    },
    {
      "cell_type": "code",
      "execution_count": 23,
      "metadata": {
        "colab": {
          "base_uri": "https://localhost:8080/",
          "height": 0
        },
        "id": "PrLmXQ8UMewP",
        "outputId": "bf5c8258-edad-4e7f-e846-2a263e9ee297"
      },
      "outputs": [
        {
          "output_type": "stream",
          "name": "stderr",
          "text": [
            "<ipython-input-23-e6ba37aa97d5>:1: SettingWithCopyWarning: \n",
            "A value is trying to be set on a copy of a slice from a DataFrame\n",
            "\n",
            "See the caveats in the documentation: https://pandas.pydata.org/pandas-docs/stable/user_guide/indexing.html#returning-a-view-versus-a-copy\n",
            "  data['Destination Port'][(data['Destination Port'] != '53') & (data['Destination Port'] != '445') & (data['Destination Port'] != '443')] = \"others\"\n"
          ]
        }
      ],
      "source": [
        "data['Destination Port'][(data['Destination Port'] != '53') & (data['Destination Port'] != '445') & (data['Destination Port'] != '443')] = \"others\""
      ]
    },
    {
      "cell_type": "code",
      "execution_count": 24,
      "metadata": {
        "colab": {
          "base_uri": "https://localhost:8080/",
          "height": 0
        },
        "id": "IpgvdnjAM5kr",
        "outputId": "5b4b9ebd-5109-4a4c-d23a-7e68c2809cda"
      },
      "outputs": [
        {
          "output_type": "execute_result",
          "data": {
            "text/plain": [
              "others    38.927579\n",
              "53        23.540731\n",
              "445       19.687529\n",
              "443       17.844161\n",
              "Name: Destination Port, dtype: float64"
            ]
          },
          "metadata": {},
          "execution_count": 24
        }
      ],
      "source": [
        "data['Destination Port'].value_counts(normalize=True)*100"
      ]
    },
    {
      "cell_type": "code",
      "execution_count": 25,
      "metadata": {
        "colab": {
          "base_uri": "https://localhost:8080/",
          "height": 0
        },
        "id": "VXtow-jmM9Kf",
        "outputId": "c77651b9-48d1-44ab-ef1a-9d0e7ce0645e"
      },
      "outputs": [
        {
          "output_type": "execute_result",
          "data": {
            "text/plain": [
              "0        43.358074\n",
              "48817     0.126760\n",
              "58638     0.077889\n",
              "50116     0.022908\n",
              "57596     0.007636\n",
              "           ...    \n",
              "2063      0.001527\n",
              "33661     0.001527\n",
              "36797     0.001527\n",
              "14122     0.001527\n",
              "13485     0.001527\n",
              "Name: NAT Source Port, Length: 29143, dtype: float64"
            ]
          },
          "metadata": {},
          "execution_count": 25
        }
      ],
      "source": [
        "data['NAT Source Port'].value_counts(normalize=True)*100"
      ]
    },
    {
      "cell_type": "code",
      "execution_count": 26,
      "metadata": {
        "colab": {
          "base_uri": "https://localhost:8080/",
          "height": 0
        },
        "id": "kJv5Zq4tNERt",
        "outputId": "f8482408-ffba-44f6-81ef-dbe5f34de367"
      },
      "outputs": [
        {
          "output_type": "stream",
          "name": "stderr",
          "text": [
            "<ipython-input-26-5b0b8a5476d4>:1: SettingWithCopyWarning: \n",
            "A value is trying to be set on a copy of a slice from a DataFrame\n",
            "\n",
            "See the caveats in the documentation: https://pandas.pydata.org/pandas-docs/stable/user_guide/indexing.html#returning-a-view-versus-a-copy\n",
            "  data['NAT Source Port'][(data['NAT Source Port'] != '0')] = \"others\"\n"
          ]
        }
      ],
      "source": [
        "data['NAT Source Port'][(data['NAT Source Port'] != '0')] = \"others\""
      ]
    },
    {
      "cell_type": "code",
      "execution_count": 27,
      "metadata": {
        "colab": {
          "base_uri": "https://localhost:8080/",
          "height": 0
        },
        "id": "CI_aGYnCNSrf",
        "outputId": "4b47758b-20fb-4fbe-99c0-1544a26a997c"
      },
      "outputs": [
        {
          "output_type": "execute_result",
          "data": {
            "text/plain": [
              "others    56.641926\n",
              "0         43.358074\n",
              "Name: NAT Source Port, dtype: float64"
            ]
          },
          "metadata": {},
          "execution_count": 27
        }
      ],
      "source": [
        "data['NAT Source Port'].value_counts(normalize=True)*100"
      ]
    },
    {
      "cell_type": "code",
      "execution_count": 28,
      "metadata": {
        "colab": {
          "base_uri": "https://localhost:8080/",
          "height": 0
        },
        "id": "EAvcl8tTNjCK",
        "outputId": "d460bfbb-ab62-4ed1-ef1e-a9464582bab1"
      },
      "outputs": [
        {
          "output_type": "execute_result",
          "data": {
            "text/plain": [
              "0        43.358074\n",
              "53       23.052017\n",
              "443      17.834998\n",
              "80        6.151685\n",
              "27015     0.357372\n",
              "           ...    \n",
              "45561     0.001527\n",
              "45738     0.001527\n",
              "41872     0.001527\n",
              "25760     0.001527\n",
              "32277     0.001527\n",
              "Name: NAT Destination Port, Length: 2533, dtype: float64"
            ]
          },
          "metadata": {},
          "execution_count": 28
        }
      ],
      "source": [
        "data['NAT Destination Port'].value_counts(normalize=True)*100"
      ]
    },
    {
      "cell_type": "code",
      "execution_count": 29,
      "metadata": {
        "colab": {
          "base_uri": "https://localhost:8080/",
          "height": 0
        },
        "id": "WoZeJEd2Nn4Q",
        "outputId": "9fe50664-91e9-489d-fa27-e25f0feed868"
      },
      "outputs": [
        {
          "output_type": "stream",
          "name": "stderr",
          "text": [
            "<ipython-input-29-b90cdf1cd79d>:1: SettingWithCopyWarning: \n",
            "A value is trying to be set on a copy of a slice from a DataFrame\n",
            "\n",
            "See the caveats in the documentation: https://pandas.pydata.org/pandas-docs/stable/user_guide/indexing.html#returning-a-view-versus-a-copy\n",
            "  data['NAT Destination Port'][(data['NAT Destination Port'] != '0') & (data['NAT Destination Port'] != '53') & (data['NAT Destination Port'] != '443')] = \"others\"\n"
          ]
        }
      ],
      "source": [
        "data['NAT Destination Port'][(data['NAT Destination Port'] != '0') & (data['NAT Destination Port'] != '53') & (data['NAT Destination Port'] != '443')] = \"others\""
      ]
    },
    {
      "cell_type": "code",
      "execution_count": 30,
      "metadata": {
        "colab": {
          "base_uri": "https://localhost:8080/",
          "height": 0
        },
        "id": "ibVCYM0TNyOh",
        "outputId": "5fbede34-4f81-44f6-e64e-0bafd0c066d4"
      },
      "outputs": [
        {
          "output_type": "execute_result",
          "data": {
            "text/plain": [
              "0         43.358074\n",
              "53        23.052017\n",
              "443       17.834998\n",
              "others    15.754910\n",
              "Name: NAT Destination Port, dtype: float64"
            ]
          },
          "metadata": {},
          "execution_count": 30
        }
      ],
      "source": [
        "data['NAT Destination Port'].value_counts(normalize=True)*100"
      ]
    },
    {
      "cell_type": "code",
      "execution_count": 31,
      "metadata": {
        "colab": {
          "base_uri": "https://localhost:8080/",
          "height": 0
        },
        "id": "RdVrhbDJN21O",
        "outputId": "5d03ac17-b671-4ab7-bd3c-856b89717e36"
      },
      "outputs": [
        {
          "output_type": "stream",
          "name": "stdout",
          "text": [
            "others    96.856960\n",
            "58638      1.282874\n",
            "27005      0.783469\n",
            "443        0.416934\n",
            "57470      0.339045\n",
            "49418      0.320718\n",
            "Name: Source Port, dtype: float64\n",
            "others    38.927579\n",
            "53        23.540731\n",
            "445       19.687529\n",
            "443       17.844161\n",
            "Name: Destination Port, dtype: float64\n",
            "others    56.641926\n",
            "0         43.358074\n",
            "Name: NAT Source Port, dtype: float64\n",
            "0         43.358074\n",
            "53        23.052017\n",
            "443       17.834998\n",
            "others    15.754910\n",
            "Name: NAT Destination Port, dtype: float64\n",
            "allow    57.484957\n",
            "deny     22.888604\n",
            "drop     19.626439\n",
            "Name: Action, dtype: float64\n",
            "70         16.266532\n",
            "66         14.438437\n",
            "62          8.621216\n",
            "60          2.481750\n",
            "146         1.632609\n",
            "             ...    \n",
            "73712       0.001527\n",
            "122815      0.001527\n",
            "1417        0.001527\n",
            "1497        0.001527\n",
            "4680740     0.001527\n",
            "Name: Bytes, Length: 10724, dtype: float64\n",
            "70       16.822444\n",
            "66       14.499527\n",
            "62        8.653288\n",
            "94        5.962308\n",
            "102       5.374324\n",
            "           ...    \n",
            "10014     0.001527\n",
            "31093     0.001527\n",
            "466       0.001527\n",
            "8562      0.001527\n",
            "67312     0.001527\n",
            "Name: Bytes Sent, Length: 6683, dtype: float64\n",
            "0          48.156633\n",
            "83          1.631082\n",
            "90          1.365344\n",
            "97          1.000336\n",
            "89          0.917866\n",
            "             ...    \n",
            "16355       0.001527\n",
            "5585        0.001527\n",
            "5513        0.001527\n",
            "15956       0.001527\n",
            "4613428     0.001527\n",
            "Name: Bytes Received, Length: 8814, dtype: float64\n",
            "1        45.491616\n",
            "2        25.396316\n",
            "4         2.810104\n",
            "6         1.646355\n",
            "19        1.125569\n",
            "           ...    \n",
            "45399     0.001527\n",
            "12752     0.001527\n",
            "11272     0.001527\n",
            "31568     0.001527\n",
            "4675      0.001527\n",
            "Name: Packets, Length: 1116, dtype: float64\n",
            "0       43.095391\n",
            "30      15.764073\n",
            "31       5.082623\n",
            "29       3.268273\n",
            "15       2.778032\n",
            "          ...    \n",
            "788      0.001527\n",
            "520      0.001527\n",
            "717      0.001527\n",
            "3637     0.001527\n",
            "3438     0.001527\n",
            "Name: Elapsed Time (sec), Length: 915, dtype: float64\n",
            "1       69.047619\n",
            "2        4.442714\n",
            "3        2.190049\n",
            "11       1.941110\n",
            "6        1.829622\n",
            "          ...    \n",
            "939      0.001527\n",
            "354      0.001527\n",
            "1118     0.001527\n",
            "3853     0.001527\n",
            "985      0.001527\n",
            "Name: pkts_sent, Length: 749, dtype: float64\n",
            "0       48.156633\n",
            "1       24.646446\n",
            "2        2.889520\n",
            "8        1.941110\n",
            "3        1.840313\n",
            "          ...    \n",
            "798      0.001527\n",
            "705      0.001527\n",
            "604      0.001527\n",
            "315      0.001527\n",
            "3690     0.001527\n",
            "Name: pkts_received, Length: 922, dtype: float64\n"
          ]
        }
      ],
      "source": [
        "for c in data.columns:\n",
        "  print(data[c].value_counts(normalize=True)*100)"
      ]
    },
    {
      "cell_type": "markdown",
      "source": [
        "### Encoding Action (Target Value)"
      ],
      "metadata": {
        "id": "mg8IvZDvG4MM"
      }
    },
    {
      "cell_type": "code",
      "execution_count": 32,
      "metadata": {
        "colab": {
          "base_uri": "https://localhost:8080/",
          "height": 206
        },
        "id": "CQ3EM35NSzZ5",
        "outputId": "37ae06ec-26fa-422a-a0f4-2be3ecb11720"
      },
      "outputs": [
        {
          "output_type": "execute_result",
          "data": {
            "text/plain": [
              "  Source Port Destination Port NAT Source Port NAT Destination Port Action  \\\n",
              "0      others               53          others                   53  allow   \n",
              "1      others           others          others               others  allow   \n",
              "2      others           others          others               others  allow   \n",
              "3      others           others          others               others  allow   \n",
              "4      others              443          others                  443  allow   \n",
              "\n",
              "   Bytes  Bytes Sent  Bytes Received  Packets  Elapsed Time (sec)  pkts_sent  \\\n",
              "0    177          94              83        2                  30          1   \n",
              "1   4768        1600            3168       19                  17         10   \n",
              "2    238         118             120        2                1199          1   \n",
              "3   3327        1438            1889       15                  17          8   \n",
              "4  25358        6778           18580       31                  16         13   \n",
              "\n",
              "   pkts_received  Label  \n",
              "0              1      1  \n",
              "1              9      1  \n",
              "2              1      1  \n",
              "3              7      1  \n",
              "4             18      1  "
            ],
            "text/html": [
              "\n",
              "  <div id=\"df-377b29cb-6cd7-4114-90eb-67afd4259ac6\">\n",
              "    <div class=\"colab-df-container\">\n",
              "      <div>\n",
              "<style scoped>\n",
              "    .dataframe tbody tr th:only-of-type {\n",
              "        vertical-align: middle;\n",
              "    }\n",
              "\n",
              "    .dataframe tbody tr th {\n",
              "        vertical-align: top;\n",
              "    }\n",
              "\n",
              "    .dataframe thead th {\n",
              "        text-align: right;\n",
              "    }\n",
              "</style>\n",
              "<table border=\"1\" class=\"dataframe\">\n",
              "  <thead>\n",
              "    <tr style=\"text-align: right;\">\n",
              "      <th></th>\n",
              "      <th>Source Port</th>\n",
              "      <th>Destination Port</th>\n",
              "      <th>NAT Source Port</th>\n",
              "      <th>NAT Destination Port</th>\n",
              "      <th>Action</th>\n",
              "      <th>Bytes</th>\n",
              "      <th>Bytes Sent</th>\n",
              "      <th>Bytes Received</th>\n",
              "      <th>Packets</th>\n",
              "      <th>Elapsed Time (sec)</th>\n",
              "      <th>pkts_sent</th>\n",
              "      <th>pkts_received</th>\n",
              "      <th>Label</th>\n",
              "    </tr>\n",
              "  </thead>\n",
              "  <tbody>\n",
              "    <tr>\n",
              "      <th>0</th>\n",
              "      <td>others</td>\n",
              "      <td>53</td>\n",
              "      <td>others</td>\n",
              "      <td>53</td>\n",
              "      <td>allow</td>\n",
              "      <td>177</td>\n",
              "      <td>94</td>\n",
              "      <td>83</td>\n",
              "      <td>2</td>\n",
              "      <td>30</td>\n",
              "      <td>1</td>\n",
              "      <td>1</td>\n",
              "      <td>1</td>\n",
              "    </tr>\n",
              "    <tr>\n",
              "      <th>1</th>\n",
              "      <td>others</td>\n",
              "      <td>others</td>\n",
              "      <td>others</td>\n",
              "      <td>others</td>\n",
              "      <td>allow</td>\n",
              "      <td>4768</td>\n",
              "      <td>1600</td>\n",
              "      <td>3168</td>\n",
              "      <td>19</td>\n",
              "      <td>17</td>\n",
              "      <td>10</td>\n",
              "      <td>9</td>\n",
              "      <td>1</td>\n",
              "    </tr>\n",
              "    <tr>\n",
              "      <th>2</th>\n",
              "      <td>others</td>\n",
              "      <td>others</td>\n",
              "      <td>others</td>\n",
              "      <td>others</td>\n",
              "      <td>allow</td>\n",
              "      <td>238</td>\n",
              "      <td>118</td>\n",
              "      <td>120</td>\n",
              "      <td>2</td>\n",
              "      <td>1199</td>\n",
              "      <td>1</td>\n",
              "      <td>1</td>\n",
              "      <td>1</td>\n",
              "    </tr>\n",
              "    <tr>\n",
              "      <th>3</th>\n",
              "      <td>others</td>\n",
              "      <td>others</td>\n",
              "      <td>others</td>\n",
              "      <td>others</td>\n",
              "      <td>allow</td>\n",
              "      <td>3327</td>\n",
              "      <td>1438</td>\n",
              "      <td>1889</td>\n",
              "      <td>15</td>\n",
              "      <td>17</td>\n",
              "      <td>8</td>\n",
              "      <td>7</td>\n",
              "      <td>1</td>\n",
              "    </tr>\n",
              "    <tr>\n",
              "      <th>4</th>\n",
              "      <td>others</td>\n",
              "      <td>443</td>\n",
              "      <td>others</td>\n",
              "      <td>443</td>\n",
              "      <td>allow</td>\n",
              "      <td>25358</td>\n",
              "      <td>6778</td>\n",
              "      <td>18580</td>\n",
              "      <td>31</td>\n",
              "      <td>16</td>\n",
              "      <td>13</td>\n",
              "      <td>18</td>\n",
              "      <td>1</td>\n",
              "    </tr>\n",
              "  </tbody>\n",
              "</table>\n",
              "</div>\n",
              "      <button class=\"colab-df-convert\" onclick=\"convertToInteractive('df-377b29cb-6cd7-4114-90eb-67afd4259ac6')\"\n",
              "              title=\"Convert this dataframe to an interactive table.\"\n",
              "              style=\"display:none;\">\n",
              "        \n",
              "  <svg xmlns=\"http://www.w3.org/2000/svg\" height=\"24px\"viewBox=\"0 0 24 24\"\n",
              "       width=\"24px\">\n",
              "    <path d=\"M0 0h24v24H0V0z\" fill=\"none\"/>\n",
              "    <path d=\"M18.56 5.44l.94 2.06.94-2.06 2.06-.94-2.06-.94-.94-2.06-.94 2.06-2.06.94zm-11 1L8.5 8.5l.94-2.06 2.06-.94-2.06-.94L8.5 2.5l-.94 2.06-2.06.94zm10 10l.94 2.06.94-2.06 2.06-.94-2.06-.94-.94-2.06-.94 2.06-2.06.94z\"/><path d=\"M17.41 7.96l-1.37-1.37c-.4-.4-.92-.59-1.43-.59-.52 0-1.04.2-1.43.59L10.3 9.45l-7.72 7.72c-.78.78-.78 2.05 0 2.83L4 21.41c.39.39.9.59 1.41.59.51 0 1.02-.2 1.41-.59l7.78-7.78 2.81-2.81c.8-.78.8-2.07 0-2.86zM5.41 20L4 18.59l7.72-7.72 1.47 1.35L5.41 20z\"/>\n",
              "  </svg>\n",
              "      </button>\n",
              "      \n",
              "  <style>\n",
              "    .colab-df-container {\n",
              "      display:flex;\n",
              "      flex-wrap:wrap;\n",
              "      gap: 12px;\n",
              "    }\n",
              "\n",
              "    .colab-df-convert {\n",
              "      background-color: #E8F0FE;\n",
              "      border: none;\n",
              "      border-radius: 50%;\n",
              "      cursor: pointer;\n",
              "      display: none;\n",
              "      fill: #1967D2;\n",
              "      height: 32px;\n",
              "      padding: 0 0 0 0;\n",
              "      width: 32px;\n",
              "    }\n",
              "\n",
              "    .colab-df-convert:hover {\n",
              "      background-color: #E2EBFA;\n",
              "      box-shadow: 0px 1px 2px rgba(60, 64, 67, 0.3), 0px 1px 3px 1px rgba(60, 64, 67, 0.15);\n",
              "      fill: #174EA6;\n",
              "    }\n",
              "\n",
              "    [theme=dark] .colab-df-convert {\n",
              "      background-color: #3B4455;\n",
              "      fill: #D2E3FC;\n",
              "    }\n",
              "\n",
              "    [theme=dark] .colab-df-convert:hover {\n",
              "      background-color: #434B5C;\n",
              "      box-shadow: 0px 1px 3px 1px rgba(0, 0, 0, 0.15);\n",
              "      filter: drop-shadow(0px 1px 2px rgba(0, 0, 0, 0.3));\n",
              "      fill: #FFFFFF;\n",
              "    }\n",
              "  </style>\n",
              "\n",
              "      <script>\n",
              "        const buttonEl =\n",
              "          document.querySelector('#df-377b29cb-6cd7-4114-90eb-67afd4259ac6 button.colab-df-convert');\n",
              "        buttonEl.style.display =\n",
              "          google.colab.kernel.accessAllowed ? 'block' : 'none';\n",
              "\n",
              "        async function convertToInteractive(key) {\n",
              "          const element = document.querySelector('#df-377b29cb-6cd7-4114-90eb-67afd4259ac6');\n",
              "          const dataTable =\n",
              "            await google.colab.kernel.invokeFunction('convertToInteractive',\n",
              "                                                     [key], {});\n",
              "          if (!dataTable) return;\n",
              "\n",
              "          const docLinkHtml = 'Like what you see? Visit the ' +\n",
              "            '<a target=\"_blank\" href=https://colab.research.google.com/notebooks/data_table.ipynb>data table notebook</a>'\n",
              "            + ' to learn more about interactive tables.';\n",
              "          element.innerHTML = '';\n",
              "          dataTable['output_type'] = 'display_data';\n",
              "          await google.colab.output.renderOutput(dataTable, element);\n",
              "          const docLink = document.createElement('div');\n",
              "          docLink.innerHTML = docLinkHtml;\n",
              "          element.appendChild(docLink);\n",
              "        }\n",
              "      </script>\n",
              "    </div>\n",
              "  </div>\n",
              "  "
            ]
          },
          "metadata": {},
          "execution_count": 32
        }
      ],
      "source": [
        "def label_encode(action):\n",
        "  if action == 'deny':\n",
        "    return 0\n",
        "  if action == 'allow':\n",
        "    return 1\n",
        "  if action == 'drop':\n",
        "    return 2\n",
        "data['Label'] = data['Action'].map(label_encode)\n",
        "data.head()"
      ]
    },
    {
      "cell_type": "code",
      "execution_count": 33,
      "metadata": {
        "colab": {
          "base_uri": "https://localhost:8080/",
          "height": 206
        },
        "id": "7L3CBaaaT378",
        "outputId": "46147db7-4ae1-44bf-a3af-c82656b4afed"
      },
      "outputs": [
        {
          "output_type": "execute_result",
          "data": {
            "text/plain": [
              "  Source Port Destination Port NAT Source Port NAT Destination Port  Bytes  \\\n",
              "0      others               53          others                   53    177   \n",
              "1      others           others          others               others   4768   \n",
              "2      others           others          others               others    238   \n",
              "3      others           others          others               others   3327   \n",
              "4      others              443          others                  443  25358   \n",
              "\n",
              "   Bytes Sent  Bytes Received  Packets  Elapsed Time (sec)  pkts_sent  \\\n",
              "0          94              83        2                  30          1   \n",
              "1        1600            3168       19                  17         10   \n",
              "2         118             120        2                1199          1   \n",
              "3        1438            1889       15                  17          8   \n",
              "4        6778           18580       31                  16         13   \n",
              "\n",
              "   pkts_received  Label  \n",
              "0              1      1  \n",
              "1              9      1  \n",
              "2              1      1  \n",
              "3              7      1  \n",
              "4             18      1  "
            ],
            "text/html": [
              "\n",
              "  <div id=\"df-7b7730ac-6884-4163-b99c-ec862efc56b4\">\n",
              "    <div class=\"colab-df-container\">\n",
              "      <div>\n",
              "<style scoped>\n",
              "    .dataframe tbody tr th:only-of-type {\n",
              "        vertical-align: middle;\n",
              "    }\n",
              "\n",
              "    .dataframe tbody tr th {\n",
              "        vertical-align: top;\n",
              "    }\n",
              "\n",
              "    .dataframe thead th {\n",
              "        text-align: right;\n",
              "    }\n",
              "</style>\n",
              "<table border=\"1\" class=\"dataframe\">\n",
              "  <thead>\n",
              "    <tr style=\"text-align: right;\">\n",
              "      <th></th>\n",
              "      <th>Source Port</th>\n",
              "      <th>Destination Port</th>\n",
              "      <th>NAT Source Port</th>\n",
              "      <th>NAT Destination Port</th>\n",
              "      <th>Bytes</th>\n",
              "      <th>Bytes Sent</th>\n",
              "      <th>Bytes Received</th>\n",
              "      <th>Packets</th>\n",
              "      <th>Elapsed Time (sec)</th>\n",
              "      <th>pkts_sent</th>\n",
              "      <th>pkts_received</th>\n",
              "      <th>Label</th>\n",
              "    </tr>\n",
              "  </thead>\n",
              "  <tbody>\n",
              "    <tr>\n",
              "      <th>0</th>\n",
              "      <td>others</td>\n",
              "      <td>53</td>\n",
              "      <td>others</td>\n",
              "      <td>53</td>\n",
              "      <td>177</td>\n",
              "      <td>94</td>\n",
              "      <td>83</td>\n",
              "      <td>2</td>\n",
              "      <td>30</td>\n",
              "      <td>1</td>\n",
              "      <td>1</td>\n",
              "      <td>1</td>\n",
              "    </tr>\n",
              "    <tr>\n",
              "      <th>1</th>\n",
              "      <td>others</td>\n",
              "      <td>others</td>\n",
              "      <td>others</td>\n",
              "      <td>others</td>\n",
              "      <td>4768</td>\n",
              "      <td>1600</td>\n",
              "      <td>3168</td>\n",
              "      <td>19</td>\n",
              "      <td>17</td>\n",
              "      <td>10</td>\n",
              "      <td>9</td>\n",
              "      <td>1</td>\n",
              "    </tr>\n",
              "    <tr>\n",
              "      <th>2</th>\n",
              "      <td>others</td>\n",
              "      <td>others</td>\n",
              "      <td>others</td>\n",
              "      <td>others</td>\n",
              "      <td>238</td>\n",
              "      <td>118</td>\n",
              "      <td>120</td>\n",
              "      <td>2</td>\n",
              "      <td>1199</td>\n",
              "      <td>1</td>\n",
              "      <td>1</td>\n",
              "      <td>1</td>\n",
              "    </tr>\n",
              "    <tr>\n",
              "      <th>3</th>\n",
              "      <td>others</td>\n",
              "      <td>others</td>\n",
              "      <td>others</td>\n",
              "      <td>others</td>\n",
              "      <td>3327</td>\n",
              "      <td>1438</td>\n",
              "      <td>1889</td>\n",
              "      <td>15</td>\n",
              "      <td>17</td>\n",
              "      <td>8</td>\n",
              "      <td>7</td>\n",
              "      <td>1</td>\n",
              "    </tr>\n",
              "    <tr>\n",
              "      <th>4</th>\n",
              "      <td>others</td>\n",
              "      <td>443</td>\n",
              "      <td>others</td>\n",
              "      <td>443</td>\n",
              "      <td>25358</td>\n",
              "      <td>6778</td>\n",
              "      <td>18580</td>\n",
              "      <td>31</td>\n",
              "      <td>16</td>\n",
              "      <td>13</td>\n",
              "      <td>18</td>\n",
              "      <td>1</td>\n",
              "    </tr>\n",
              "  </tbody>\n",
              "</table>\n",
              "</div>\n",
              "      <button class=\"colab-df-convert\" onclick=\"convertToInteractive('df-7b7730ac-6884-4163-b99c-ec862efc56b4')\"\n",
              "              title=\"Convert this dataframe to an interactive table.\"\n",
              "              style=\"display:none;\">\n",
              "        \n",
              "  <svg xmlns=\"http://www.w3.org/2000/svg\" height=\"24px\"viewBox=\"0 0 24 24\"\n",
              "       width=\"24px\">\n",
              "    <path d=\"M0 0h24v24H0V0z\" fill=\"none\"/>\n",
              "    <path d=\"M18.56 5.44l.94 2.06.94-2.06 2.06-.94-2.06-.94-.94-2.06-.94 2.06-2.06.94zm-11 1L8.5 8.5l.94-2.06 2.06-.94-2.06-.94L8.5 2.5l-.94 2.06-2.06.94zm10 10l.94 2.06.94-2.06 2.06-.94-2.06-.94-.94-2.06-.94 2.06-2.06.94z\"/><path d=\"M17.41 7.96l-1.37-1.37c-.4-.4-.92-.59-1.43-.59-.52 0-1.04.2-1.43.59L10.3 9.45l-7.72 7.72c-.78.78-.78 2.05 0 2.83L4 21.41c.39.39.9.59 1.41.59.51 0 1.02-.2 1.41-.59l7.78-7.78 2.81-2.81c.8-.78.8-2.07 0-2.86zM5.41 20L4 18.59l7.72-7.72 1.47 1.35L5.41 20z\"/>\n",
              "  </svg>\n",
              "      </button>\n",
              "      \n",
              "  <style>\n",
              "    .colab-df-container {\n",
              "      display:flex;\n",
              "      flex-wrap:wrap;\n",
              "      gap: 12px;\n",
              "    }\n",
              "\n",
              "    .colab-df-convert {\n",
              "      background-color: #E8F0FE;\n",
              "      border: none;\n",
              "      border-radius: 50%;\n",
              "      cursor: pointer;\n",
              "      display: none;\n",
              "      fill: #1967D2;\n",
              "      height: 32px;\n",
              "      padding: 0 0 0 0;\n",
              "      width: 32px;\n",
              "    }\n",
              "\n",
              "    .colab-df-convert:hover {\n",
              "      background-color: #E2EBFA;\n",
              "      box-shadow: 0px 1px 2px rgba(60, 64, 67, 0.3), 0px 1px 3px 1px rgba(60, 64, 67, 0.15);\n",
              "      fill: #174EA6;\n",
              "    }\n",
              "\n",
              "    [theme=dark] .colab-df-convert {\n",
              "      background-color: #3B4455;\n",
              "      fill: #D2E3FC;\n",
              "    }\n",
              "\n",
              "    [theme=dark] .colab-df-convert:hover {\n",
              "      background-color: #434B5C;\n",
              "      box-shadow: 0px 1px 3px 1px rgba(0, 0, 0, 0.15);\n",
              "      filter: drop-shadow(0px 1px 2px rgba(0, 0, 0, 0.3));\n",
              "      fill: #FFFFFF;\n",
              "    }\n",
              "  </style>\n",
              "\n",
              "      <script>\n",
              "        const buttonEl =\n",
              "          document.querySelector('#df-7b7730ac-6884-4163-b99c-ec862efc56b4 button.colab-df-convert');\n",
              "        buttonEl.style.display =\n",
              "          google.colab.kernel.accessAllowed ? 'block' : 'none';\n",
              "\n",
              "        async function convertToInteractive(key) {\n",
              "          const element = document.querySelector('#df-7b7730ac-6884-4163-b99c-ec862efc56b4');\n",
              "          const dataTable =\n",
              "            await google.colab.kernel.invokeFunction('convertToInteractive',\n",
              "                                                     [key], {});\n",
              "          if (!dataTable) return;\n",
              "\n",
              "          const docLinkHtml = 'Like what you see? Visit the ' +\n",
              "            '<a target=\"_blank\" href=https://colab.research.google.com/notebooks/data_table.ipynb>data table notebook</a>'\n",
              "            + ' to learn more about interactive tables.';\n",
              "          element.innerHTML = '';\n",
              "          dataTable['output_type'] = 'display_data';\n",
              "          await google.colab.output.renderOutput(dataTable, element);\n",
              "          const docLink = document.createElement('div');\n",
              "          docLink.innerHTML = docLinkHtml;\n",
              "          element.appendChild(docLink);\n",
              "        }\n",
              "      </script>\n",
              "    </div>\n",
              "  </div>\n",
              "  "
            ]
          },
          "metadata": {},
          "execution_count": 33
        }
      ],
      "source": [
        "data.drop('Action', axis=1, inplace=True)\n",
        "data.head()"
      ]
    },
    {
      "cell_type": "code",
      "execution_count": 34,
      "metadata": {
        "colab": {
          "base_uri": "https://localhost:8080/",
          "height": 300
        },
        "id": "qGxGMT3nHrOg",
        "outputId": "a2321fd8-5c97-414b-9f03-2e05bd0d7db6"
      },
      "outputs": [
        {
          "output_type": "execute_result",
          "data": {
            "text/plain": [
              "                      count          mean           std   min   25%    50%  \\\n",
              "Bytes               65478.0  97203.918874  5.620755e+06  60.0  66.0  168.0   \n",
              "Bytes Sent          65478.0  22404.141635  3.829717e+06  60.0  66.0   90.0   \n",
              "Bytes Received      65478.0  74799.777238  2.464222e+06   0.0   0.0   79.0   \n",
              "Packets             65478.0    102.949494  5.135118e+03   1.0   1.0    2.0   \n",
              "Elapsed Time (sec)  65478.0     65.887764  3.025806e+02   0.0   0.0   15.0   \n",
              "pkts_sent           65478.0     41.432481  3.220198e+03   1.0   1.0    1.0   \n",
              "pkts_received       65478.0     61.517013  2.224248e+03   0.0   0.0    1.0   \n",
              "Label               65478.0      0.967378  6.512240e-01   0.0   1.0    1.0   \n",
              "\n",
              "                      75%           max  \n",
              "Bytes               753.0  1.269359e+09  \n",
              "Bytes Sent          210.0  9.484772e+08  \n",
              "Bytes Received      449.0  3.208818e+08  \n",
              "Packets               6.0  1.036116e+06  \n",
              "Elapsed Time (sec)   30.0  1.082400e+04  \n",
              "pkts_sent             3.0  7.475200e+05  \n",
              "pkts_received         2.0  3.272080e+05  \n",
              "Label                 1.0  2.000000e+00  "
            ],
            "text/html": [
              "\n",
              "  <div id=\"df-5f7ff5a6-ebb3-440a-a37c-6895725c0c7f\">\n",
              "    <div class=\"colab-df-container\">\n",
              "      <div>\n",
              "<style scoped>\n",
              "    .dataframe tbody tr th:only-of-type {\n",
              "        vertical-align: middle;\n",
              "    }\n",
              "\n",
              "    .dataframe tbody tr th {\n",
              "        vertical-align: top;\n",
              "    }\n",
              "\n",
              "    .dataframe thead th {\n",
              "        text-align: right;\n",
              "    }\n",
              "</style>\n",
              "<table border=\"1\" class=\"dataframe\">\n",
              "  <thead>\n",
              "    <tr style=\"text-align: right;\">\n",
              "      <th></th>\n",
              "      <th>count</th>\n",
              "      <th>mean</th>\n",
              "      <th>std</th>\n",
              "      <th>min</th>\n",
              "      <th>25%</th>\n",
              "      <th>50%</th>\n",
              "      <th>75%</th>\n",
              "      <th>max</th>\n",
              "    </tr>\n",
              "  </thead>\n",
              "  <tbody>\n",
              "    <tr>\n",
              "      <th>Bytes</th>\n",
              "      <td>65478.0</td>\n",
              "      <td>97203.918874</td>\n",
              "      <td>5.620755e+06</td>\n",
              "      <td>60.0</td>\n",
              "      <td>66.0</td>\n",
              "      <td>168.0</td>\n",
              "      <td>753.0</td>\n",
              "      <td>1.269359e+09</td>\n",
              "    </tr>\n",
              "    <tr>\n",
              "      <th>Bytes Sent</th>\n",
              "      <td>65478.0</td>\n",
              "      <td>22404.141635</td>\n",
              "      <td>3.829717e+06</td>\n",
              "      <td>60.0</td>\n",
              "      <td>66.0</td>\n",
              "      <td>90.0</td>\n",
              "      <td>210.0</td>\n",
              "      <td>9.484772e+08</td>\n",
              "    </tr>\n",
              "    <tr>\n",
              "      <th>Bytes Received</th>\n",
              "      <td>65478.0</td>\n",
              "      <td>74799.777238</td>\n",
              "      <td>2.464222e+06</td>\n",
              "      <td>0.0</td>\n",
              "      <td>0.0</td>\n",
              "      <td>79.0</td>\n",
              "      <td>449.0</td>\n",
              "      <td>3.208818e+08</td>\n",
              "    </tr>\n",
              "    <tr>\n",
              "      <th>Packets</th>\n",
              "      <td>65478.0</td>\n",
              "      <td>102.949494</td>\n",
              "      <td>5.135118e+03</td>\n",
              "      <td>1.0</td>\n",
              "      <td>1.0</td>\n",
              "      <td>2.0</td>\n",
              "      <td>6.0</td>\n",
              "      <td>1.036116e+06</td>\n",
              "    </tr>\n",
              "    <tr>\n",
              "      <th>Elapsed Time (sec)</th>\n",
              "      <td>65478.0</td>\n",
              "      <td>65.887764</td>\n",
              "      <td>3.025806e+02</td>\n",
              "      <td>0.0</td>\n",
              "      <td>0.0</td>\n",
              "      <td>15.0</td>\n",
              "      <td>30.0</td>\n",
              "      <td>1.082400e+04</td>\n",
              "    </tr>\n",
              "    <tr>\n",
              "      <th>pkts_sent</th>\n",
              "      <td>65478.0</td>\n",
              "      <td>41.432481</td>\n",
              "      <td>3.220198e+03</td>\n",
              "      <td>1.0</td>\n",
              "      <td>1.0</td>\n",
              "      <td>1.0</td>\n",
              "      <td>3.0</td>\n",
              "      <td>7.475200e+05</td>\n",
              "    </tr>\n",
              "    <tr>\n",
              "      <th>pkts_received</th>\n",
              "      <td>65478.0</td>\n",
              "      <td>61.517013</td>\n",
              "      <td>2.224248e+03</td>\n",
              "      <td>0.0</td>\n",
              "      <td>0.0</td>\n",
              "      <td>1.0</td>\n",
              "      <td>2.0</td>\n",
              "      <td>3.272080e+05</td>\n",
              "    </tr>\n",
              "    <tr>\n",
              "      <th>Label</th>\n",
              "      <td>65478.0</td>\n",
              "      <td>0.967378</td>\n",
              "      <td>6.512240e-01</td>\n",
              "      <td>0.0</td>\n",
              "      <td>1.0</td>\n",
              "      <td>1.0</td>\n",
              "      <td>1.0</td>\n",
              "      <td>2.000000e+00</td>\n",
              "    </tr>\n",
              "  </tbody>\n",
              "</table>\n",
              "</div>\n",
              "      <button class=\"colab-df-convert\" onclick=\"convertToInteractive('df-5f7ff5a6-ebb3-440a-a37c-6895725c0c7f')\"\n",
              "              title=\"Convert this dataframe to an interactive table.\"\n",
              "              style=\"display:none;\">\n",
              "        \n",
              "  <svg xmlns=\"http://www.w3.org/2000/svg\" height=\"24px\"viewBox=\"0 0 24 24\"\n",
              "       width=\"24px\">\n",
              "    <path d=\"M0 0h24v24H0V0z\" fill=\"none\"/>\n",
              "    <path d=\"M18.56 5.44l.94 2.06.94-2.06 2.06-.94-2.06-.94-.94-2.06-.94 2.06-2.06.94zm-11 1L8.5 8.5l.94-2.06 2.06-.94-2.06-.94L8.5 2.5l-.94 2.06-2.06.94zm10 10l.94 2.06.94-2.06 2.06-.94-2.06-.94-.94-2.06-.94 2.06-2.06.94z\"/><path d=\"M17.41 7.96l-1.37-1.37c-.4-.4-.92-.59-1.43-.59-.52 0-1.04.2-1.43.59L10.3 9.45l-7.72 7.72c-.78.78-.78 2.05 0 2.83L4 21.41c.39.39.9.59 1.41.59.51 0 1.02-.2 1.41-.59l7.78-7.78 2.81-2.81c.8-.78.8-2.07 0-2.86zM5.41 20L4 18.59l7.72-7.72 1.47 1.35L5.41 20z\"/>\n",
              "  </svg>\n",
              "      </button>\n",
              "      \n",
              "  <style>\n",
              "    .colab-df-container {\n",
              "      display:flex;\n",
              "      flex-wrap:wrap;\n",
              "      gap: 12px;\n",
              "    }\n",
              "\n",
              "    .colab-df-convert {\n",
              "      background-color: #E8F0FE;\n",
              "      border: none;\n",
              "      border-radius: 50%;\n",
              "      cursor: pointer;\n",
              "      display: none;\n",
              "      fill: #1967D2;\n",
              "      height: 32px;\n",
              "      padding: 0 0 0 0;\n",
              "      width: 32px;\n",
              "    }\n",
              "\n",
              "    .colab-df-convert:hover {\n",
              "      background-color: #E2EBFA;\n",
              "      box-shadow: 0px 1px 2px rgba(60, 64, 67, 0.3), 0px 1px 3px 1px rgba(60, 64, 67, 0.15);\n",
              "      fill: #174EA6;\n",
              "    }\n",
              "\n",
              "    [theme=dark] .colab-df-convert {\n",
              "      background-color: #3B4455;\n",
              "      fill: #D2E3FC;\n",
              "    }\n",
              "\n",
              "    [theme=dark] .colab-df-convert:hover {\n",
              "      background-color: #434B5C;\n",
              "      box-shadow: 0px 1px 3px 1px rgba(0, 0, 0, 0.15);\n",
              "      filter: drop-shadow(0px 1px 2px rgba(0, 0, 0, 0.3));\n",
              "      fill: #FFFFFF;\n",
              "    }\n",
              "  </style>\n",
              "\n",
              "      <script>\n",
              "        const buttonEl =\n",
              "          document.querySelector('#df-5f7ff5a6-ebb3-440a-a37c-6895725c0c7f button.colab-df-convert');\n",
              "        buttonEl.style.display =\n",
              "          google.colab.kernel.accessAllowed ? 'block' : 'none';\n",
              "\n",
              "        async function convertToInteractive(key) {\n",
              "          const element = document.querySelector('#df-5f7ff5a6-ebb3-440a-a37c-6895725c0c7f');\n",
              "          const dataTable =\n",
              "            await google.colab.kernel.invokeFunction('convertToInteractive',\n",
              "                                                     [key], {});\n",
              "          if (!dataTable) return;\n",
              "\n",
              "          const docLinkHtml = 'Like what you see? Visit the ' +\n",
              "            '<a target=\"_blank\" href=https://colab.research.google.com/notebooks/data_table.ipynb>data table notebook</a>'\n",
              "            + ' to learn more about interactive tables.';\n",
              "          element.innerHTML = '';\n",
              "          dataTable['output_type'] = 'display_data';\n",
              "          await google.colab.output.renderOutput(dataTable, element);\n",
              "          const docLink = document.createElement('div');\n",
              "          docLink.innerHTML = docLinkHtml;\n",
              "          element.appendChild(docLink);\n",
              "        }\n",
              "      </script>\n",
              "    </div>\n",
              "  </div>\n",
              "  "
            ]
          },
          "metadata": {},
          "execution_count": 34
        }
      ],
      "source": [
        "data.describe().T"
      ]
    },
    {
      "cell_type": "markdown",
      "source": [
        "### Visualizations and handling outliers"
      ],
      "metadata": {
        "id": "gluMYCzbG88g"
      }
    },
    {
      "cell_type": "code",
      "source": [
        "sns.scatterplot(data=data, x=\"Bytes\", y=\"Bytes Sent\", hue=\"Label\")\n",
        "plt.show()"
      ],
      "metadata": {
        "colab": {
          "base_uri": "https://localhost:8080/",
          "height": 465
        },
        "id": "bZOFv4-8aBGs",
        "outputId": "21c0125a-6801-4ce0-d15a-b3d28d8ba8b0"
      },
      "execution_count": 35,
      "outputs": [
        {
          "output_type": "display_data",
          "data": {
            "text/plain": [
              "<Figure size 640x480 with 1 Axes>"
            ],
            "image/png": "[encoded data removed]"
          },
          "metadata": {}
        }
      ]
    },
    {
      "cell_type": "code",
      "source": [
        "data = data[data.Bytes < 400000000]\n",
        "sns.scatterplot(data=data, x=\"Bytes\", y=\"Bytes Sent\", hue=\"Label\")\n",
        "plt.show()"
      ],
      "metadata": {
        "colab": {
          "base_uri": "https://localhost:8080/",
          "height": 465
        },
        "id": "9PnxrlLXbI9k",
        "outputId": "7a3e9c62-a43a-4674-c890-69973a1b9ff1"
      },
      "execution_count": 36,
      "outputs": [
        {
          "output_type": "display_data",
          "data": {
            "text/plain": [
              "<Figure size 640x480 with 1 Axes>"
            ],
            "image/png": "[encoded data removed]"
          },
          "metadata": {}
        }
      ]
    },
    {
      "cell_type": "code",
      "source": [
        "sns.scatterplot(data=data, x=\"Bytes Received\", y=\"Bytes\", hue=\"Label\")\n",
        "plt.show()"
      ],
      "metadata": {
        "colab": {
          "base_uri": "https://localhost:8080/",
          "height": 465
        },
        "id": "4jf987rtauCe",
        "outputId": "82cf4bb2-9111-48d2-bad7-6aefce0c66c5"
      },
      "execution_count": 37,
      "outputs": [
        {
          "output_type": "display_data",
          "data": {
            "text/plain": [
              "<Figure size 640x480 with 1 Axes>"
            ],
            "image/png": "[encoded data removed]"
          },
          "metadata": {}
        }
      ]
    },
    {
      "cell_type": "code",
      "source": [
        "data = data[~ ((data['Bytes Received'] < 0.5e8) & (data['Bytes'] > 1e8))]\n",
        "sns.scatterplot(data=data, x=\"Bytes Received\", y=\"Bytes\", hue=\"Label\")\n",
        "plt.show()"
      ],
      "metadata": {
        "colab": {
          "base_uri": "https://localhost:8080/",
          "height": 465
        },
        "id": "J1QyQOh8cR6t",
        "outputId": "cb1c5cc5-5e9d-4972-bdd7-7737b6ebd631"
      },
      "execution_count": 38,
      "outputs": [
        {
          "output_type": "display_data",
          "data": {
            "text/plain": [
              "<Figure size 640x480 with 1 Axes>"
            ],
            "image/png": "[encoded data removed]"
          },
          "metadata": {}
        }
      ]
    },
    {
      "cell_type": "code",
      "source": [
        "sns.scatterplot(data=data, x=\"Bytes Sent\", y=\"Bytes Received\", hue=\"Label\")\n",
        "plt.show()"
      ],
      "metadata": {
        "colab": {
          "base_uri": "https://localhost:8080/",
          "height": 465
        },
        "id": "GyTQ_jYOa6gL",
        "outputId": "c5c891cf-1768-4c6d-d333-4295adaf64ad"
      },
      "execution_count": 39,
      "outputs": [
        {
          "output_type": "display_data",
          "data": {
            "text/plain": [
              "<Figure size 640x480 with 1 Axes>"
            ],
            "image/png": "[encoded data removed]"
          },
          "metadata": {}
        }
      ]
    },
    {
      "cell_type": "code",
      "source": [
        "sns.scatterplot(data, x=\"Bytes\", y=\"Bytes Sent\", hue=\"Label\")\n",
        "plt.show()"
      ],
      "metadata": {
        "colab": {
          "base_uri": "https://localhost:8080/",
          "height": 465
        },
        "id": "KqzTx6RMdjwf",
        "outputId": "dc87a60a-90d2-4d66-bdfb-b626e7578248"
      },
      "execution_count": 40,
      "outputs": [
        {
          "output_type": "display_data",
          "data": {
            "text/plain": [
              "<Figure size 640x480 with 1 Axes>"
            ],
            "image/png": "[encoded data removed]"
          },
          "metadata": {}
        }
      ]
    },
    {
      "cell_type": "code",
      "source": [
        "data.Label.value_counts(normalize=True)"
      ],
      "metadata": {
        "colab": {
          "base_uri": "https://localhost:8080/",
          "height": 0
        },
        "id": "GyVNcPwZd5Mg",
        "outputId": "5e256013-d2a8-454d-9191-85ed9d14ea69"
      },
      "execution_count": 41,
      "outputs": [
        {
          "output_type": "execute_result",
          "data": {
            "text/plain": [
              "1    0.574830\n",
              "0    0.228897\n",
              "2    0.196273\n",
              "Name: Label, dtype: float64"
            ]
          },
          "metadata": {},
          "execution_count": 41
        }
      ]
    },
    {
      "cell_type": "markdown",
      "source": [
        "### One-hot encoding"
      ],
      "metadata": {
        "id": "e3kQbt0gHFuX"
      }
    },
    {
      "cell_type": "code",
      "execution_count": 42,
      "metadata": {
        "colab": {
          "base_uri": "https://localhost:8080/",
          "height": 334
        },
        "id": "zwwnO_vuHvG_",
        "outputId": "4541f650-59fd-4e3c-d2e3-3033e620c56b"
      },
      "outputs": [
        {
          "output_type": "execute_result",
          "data": {
            "text/plain": [
              "   Bytes  Bytes Sent  Bytes Received  Packets  Elapsed Time (sec)  pkts_sent  \\\n",
              "0    177          94              83        2                  30          1   \n",
              "1   4768        1600            3168       19                  17         10   \n",
              "2    238         118             120        2                1199          1   \n",
              "3   3327        1438            1889       15                  17          8   \n",
              "4  25358        6778           18580       31                  16         13   \n",
              "\n",
              "   pkts_received  Label  Source Port_27005  Source Port_443  ...  \\\n",
              "0              1      1                  0                0  ...   \n",
              "1              9      1                  0                0  ...   \n",
              "2              1      1                  0                0  ...   \n",
              "3              7      1                  0                0  ...   \n",
              "4             18      1                  0                0  ...   \n",
              "\n",
              "   Destination Port_443  Destination Port_445  Destination Port_53  \\\n",
              "0                     0                     0                    1   \n",
              "1                     0                     0                    0   \n",
              "2                     0                     0                    0   \n",
              "3                     0                     0                    0   \n",
              "4                     1                     0                    0   \n",
              "\n",
              "   Destination Port_others  NAT Source Port_0  NAT Source Port_others  \\\n",
              "0                        0                  0                       1   \n",
              "1                        1                  0                       1   \n",
              "2                        1                  0                       1   \n",
              "3                        1                  0                       1   \n",
              "4                        0                  0                       1   \n",
              "\n",
              "   NAT Destination Port_0  NAT Destination Port_443  NAT Destination Port_53  \\\n",
              "0                       0                         0                        1   \n",
              "1                       0                         0                        0   \n",
              "2                       0                         0                        0   \n",
              "3                       0                         0                        0   \n",
              "4                       0                         1                        0   \n",
              "\n",
              "   NAT Destination Port_others  \n",
              "0                            0  \n",
              "1                            1  \n",
              "2                            1  \n",
              "3                            1  \n",
              "4                            0  \n",
              "\n",
              "[5 rows x 24 columns]"
            ],
            "text/html": [
              "\n",
              "  <div id=\"df-c68756ae-1586-4af4-b07f-2111fd7a14ab\">\n",
              "    <div class=\"colab-df-container\">\n",
              "      <div>\n",
              "<style scoped>\n",
              "    .dataframe tbody tr th:only-of-type {\n",
              "        vertical-align: middle;\n",
              "    }\n",
              "\n",
              "    .dataframe tbody tr th {\n",
              "        vertical-align: top;\n",
              "    }\n",
              "\n",
              "    .dataframe thead th {\n",
              "        text-align: right;\n",
              "    }\n",
              "</style>\n",
              "<table border=\"1\" class=\"dataframe\">\n",
              "  <thead>\n",
              "    <tr style=\"text-align: right;\">\n",
              "      <th></th>\n",
              "      <th>Bytes</th>\n",
              "      <th>Bytes Sent</th>\n",
              "      <th>Bytes Received</th>\n",
              "      <th>Packets</th>\n",
              "      <th>Elapsed Time (sec)</th>\n",
              "      <th>pkts_sent</th>\n",
              "      <th>pkts_received</th>\n",
              "      <th>Label</th>\n",
              "      <th>Source Port_27005</th>\n",
              "      <th>Source Port_443</th>\n",
              "      <th>...</th>\n",
              "      <th>Destination Port_443</th>\n",
              "      <th>Destination Port_445</th>\n",
              "      <th>Destination Port_53</th>\n",
              "      <th>Destination Port_others</th>\n",
              "      <th>NAT Source Port_0</th>\n",
              "      <th>NAT Source Port_others</th>\n",
              "      <th>NAT Destination Port_0</th>\n",
              "      <th>NAT Destination Port_443</th>\n",
              "      <th>NAT Destination Port_53</th>\n",
              "      <th>NAT Destination Port_others</th>\n",
              "    </tr>\n",
              "  </thead>\n",
              "  <tbody>\n",
              "    <tr>\n",
              "      <th>0</th>\n",
              "      <td>177</td>\n",
              "      <td>94</td>\n",
              "      <td>83</td>\n",
              "      <td>2</td>\n",
              "      <td>30</td>\n",
              "      <td>1</td>\n",
              "      <td>1</td>\n",
              "      <td>1</td>\n",
              "      <td>0</td>\n",
              "      <td>0</td>\n",
              "      <td>...</td>\n",
              "      <td>0</td>\n",
              "      <td>0</td>\n",
              "      <td>1</td>\n",
              "      <td>0</td>\n",
              "      <td>0</td>\n",
              "      <td>1</td>\n",
              "      <td>0</td>\n",
              "      <td>0</td>\n",
              "      <td>1</td>\n",
              "      <td>0</td>\n",
              "    </tr>\n",
              "    <tr>\n",
              "      <th>1</th>\n",
              "      <td>4768</td>\n",
              "      <td>1600</td>\n",
              "      <td>3168</td>\n",
              "      <td>19</td>\n",
              "      <td>17</td>\n",
              "      <td>10</td>\n",
              "      <td>9</td>\n",
              "      <td>1</td>\n",
              "      <td>0</td>\n",
              "      <td>0</td>\n",
              "      <td>...</td>\n",
              "      <td>0</td>\n",
              "      <td>0</td>\n",
              "      <td>0</td>\n",
              "      <td>1</td>\n",
              "      <td>0</td>\n",
              "      <td>1</td>\n",
              "      <td>0</td>\n",
              "      <td>0</td>\n",
              "      <td>0</td>\n",
              "      <td>1</td>\n",
              "    </tr>\n",
              "    <tr>\n",
              "      <th>2</th>\n",
              "      <td>238</td>\n",
              "      <td>118</td>\n",
              "      <td>120</td>\n",
              "      <td>2</td>\n",
              "      <td>1199</td>\n",
              "      <td>1</td>\n",
              "      <td>1</td>\n",
              "      <td>1</td>\n",
              "      <td>0</td>\n",
              "      <td>0</td>\n",
              "      <td>...</td>\n",
              "      <td>0</td>\n",
              "      <td>0</td>\n",
              "      <td>0</td>\n",
              "      <td>1</td>\n",
              "      <td>0</td>\n",
              "      <td>1</td>\n",
              "      <td>0</td>\n",
              "      <td>0</td>\n",
              "      <td>0</td>\n",
              "      <td>1</td>\n",
              "    </tr>\n",
              "    <tr>\n",
              "      <th>3</th>\n",
              "      <td>3327</td>\n",
              "      <td>1438</td>\n",
              "      <td>1889</td>\n",
              "      <td>15</td>\n",
              "      <td>17</td>\n",
              "      <td>8</td>\n",
              "      <td>7</td>\n",
              "      <td>1</td>\n",
              "      <td>0</td>\n",
              "      <td>0</td>\n",
              "      <td>...</td>\n",
              "      <td>0</td>\n",
              "      <td>0</td>\n",
              "      <td>0</td>\n",
              "      <td>1</td>\n",
              "      <td>0</td>\n",
              "      <td>1</td>\n",
              "      <td>0</td>\n",
              "      <td>0</td>\n",
              "      <td>0</td>\n",
              "      <td>1</td>\n",
              "    </tr>\n",
              "    <tr>\n",
              "      <th>4</th>\n",
              "      <td>25358</td>\n",
              "      <td>6778</td>\n",
              "      <td>18580</td>\n",
              "      <td>31</td>\n",
              "      <td>16</td>\n",
              "      <td>13</td>\n",
              "      <td>18</td>\n",
              "      <td>1</td>\n",
              "      <td>0</td>\n",
              "      <td>0</td>\n",
              "      <td>...</td>\n",
              "      <td>1</td>\n",
              "      <td>0</td>\n",
              "      <td>0</td>\n",
              "      <td>0</td>\n",
              "      <td>0</td>\n",
              "      <td>1</td>\n",
              "      <td>0</td>\n",
              "      <td>1</td>\n",
              "      <td>0</td>\n",
              "      <td>0</td>\n",
              "    </tr>\n",
              "  </tbody>\n",
              "</table>\n",
              "<p>5 rows × 24 columns</p>\n",
              "</div>\n",
              "      <button class=\"colab-df-convert\" onclick=\"convertToInteractive('df-c68756ae-1586-4af4-b07f-2111fd7a14ab')\"\n",
              "              title=\"Convert this dataframe to an interactive table.\"\n",
              "              style=\"display:none;\">\n",
              "        \n",
              "  <svg xmlns=\"http://www.w3.org/2000/svg\" height=\"24px\"viewBox=\"0 0 24 24\"\n",
              "       width=\"24px\">\n",
              "    <path d=\"M0 0h24v24H0V0z\" fill=\"none\"/>\n",
              "    <path d=\"M18.56 5.44l.94 2.06.94-2.06 2.06-.94-2.06-.94-.94-2.06-.94 2.06-2.06.94zm-11 1L8.5 8.5l.94-2.06 2.06-.94-2.06-.94L8.5 2.5l-.94 2.06-2.06.94zm10 10l.94 2.06.94-2.06 2.06-.94-2.06-.94-.94-2.06-.94 2.06-2.06.94z\"/><path d=\"M17.41 7.96l-1.37-1.37c-.4-.4-.92-.59-1.43-.59-.52 0-1.04.2-1.43.59L10.3 9.45l-7.72 7.72c-.78.78-.78 2.05 0 2.83L4 21.41c.39.39.9.59 1.41.59.51 0 1.02-.2 1.41-.59l7.78-7.78 2.81-2.81c.8-.78.8-2.07 0-2.86zM5.41 20L4 18.59l7.72-7.72 1.47 1.35L5.41 20z\"/>\n",
              "  </svg>\n",
              "      </button>\n",
              "      \n",
              "  <style>\n",
              "    .colab-df-container {\n",
              "      display:flex;\n",
              "      flex-wrap:wrap;\n",
              "      gap: 12px;\n",
              "    }\n",
              "\n",
              "    .colab-df-convert {\n",
              "      background-color: #E8F0FE;\n",
              "      border: none;\n",
              "      border-radius: 50%;\n",
              "      cursor: pointer;\n",
              "      display: none;\n",
              "      fill: #1967D2;\n",
              "      height: 32px;\n",
              "      padding: 0 0 0 0;\n",
              "      width: 32px;\n",
              "    }\n",
              "\n",
              "    .colab-df-convert:hover {\n",
              "      background-color: #E2EBFA;\n",
              "      box-shadow: 0px 1px 2px rgba(60, 64, 67, 0.3), 0px 1px 3px 1px rgba(60, 64, 67, 0.15);\n",
              "      fill: #174EA6;\n",
              "    }\n",
              "\n",
              "    [theme=dark] .colab-df-convert {\n",
              "      background-color: #3B4455;\n",
              "      fill: #D2E3FC;\n",
              "    }\n",
              "\n",
              "    [theme=dark] .colab-df-convert:hover {\n",
              "      background-color: #434B5C;\n",
              "      box-shadow: 0px 1px 3px 1px rgba(0, 0, 0, 0.15);\n",
              "      filter: drop-shadow(0px 1px 2px rgba(0, 0, 0, 0.3));\n",
              "      fill: #FFFFFF;\n",
              "    }\n",
              "  </style>\n",
              "\n",
              "      <script>\n",
              "        const buttonEl =\n",
              "          document.querySelector('#df-c68756ae-1586-4af4-b07f-2111fd7a14ab button.colab-df-convert');\n",
              "        buttonEl.style.display =\n",
              "          google.colab.kernel.accessAllowed ? 'block' : 'none';\n",
              "\n",
              "        async function convertToInteractive(key) {\n",
              "          const element = document.querySelector('#df-c68756ae-1586-4af4-b07f-2111fd7a14ab');\n",
              "          const dataTable =\n",
              "            await google.colab.kernel.invokeFunction('convertToInteractive',\n",
              "                                                     [key], {});\n",
              "          if (!dataTable) return;\n",
              "\n",
              "          const docLinkHtml = 'Like what you see? Visit the ' +\n",
              "            '<a target=\"_blank\" href=https://colab.research.google.com/notebooks/data_table.ipynb>data table notebook</a>'\n",
              "            + ' to learn more about interactive tables.';\n",
              "          element.innerHTML = '';\n",
              "          dataTable['output_type'] = 'display_data';\n",
              "          await google.colab.output.renderOutput(dataTable, element);\n",
              "          const docLink = document.createElement('div');\n",
              "          docLink.innerHTML = docLinkHtml;\n",
              "          element.appendChild(docLink);\n",
              "        }\n",
              "      </script>\n",
              "    </div>\n",
              "  </div>\n",
              "  "
            ]
          },
          "metadata": {},
          "execution_count": 42
        }
      ],
      "source": [
        "data_onehot = pd.get_dummies(data)\n",
        "data_onehot.head()"
      ]
    },
    {
      "cell_type": "code",
      "execution_count": 43,
      "metadata": {
        "colab": {
          "base_uri": "https://localhost:8080/",
          "height": 0
        },
        "id": "9KsHwsOFH80G",
        "outputId": "bd96195b-43cd-4a5c-dadd-ed0a796c5cc7"
      },
      "outputs": [
        {
          "output_type": "execute_result",
          "data": {
            "text/plain": [
              "(65475, 24)"
            ]
          },
          "metadata": {},
          "execution_count": 43
        }
      ],
      "source": [
        "data_onehot.shape"
      ]
    },
    {
      "cell_type": "code",
      "execution_count": 44,
      "metadata": {
        "colab": {
          "base_uri": "https://localhost:8080/",
          "height": 0
        },
        "id": "Nzk_XdwfULaa",
        "outputId": "f793f3b3-5c14-47e1-c4f4-4ffa2bcf235b"
      },
      "outputs": [
        {
          "output_type": "execute_result",
          "data": {
            "text/plain": [
              "((65475, 23), (65475,))"
            ]
          },
          "metadata": {},
          "execution_count": 44
        }
      ],
      "source": [
        "X = data_onehot.drop('Label', axis=1).values\n",
        "y = data_onehot['Label'].values\n",
        "X.shape, y.shape"
      ]
    },
    {
      "cell_type": "code",
      "execution_count": 45,
      "metadata": {
        "colab": {
          "base_uri": "https://localhost:8080/",
          "height": 0
        },
        "id": "_FvKIFjqUanf",
        "outputId": "f55fc7a0-deb3-4df5-9b31-1b7e58765eb3"
      },
      "outputs": [
        {
          "output_type": "execute_result",
          "data": {
            "text/plain": [
              "(array([[ 177,   94,   83, ...,    0,    1,    0],\n",
              "        [4768, 1600, 3168, ...,    0,    0,    1],\n",
              "        [ 238,  118,  120, ...,    0,    0,    1],\n",
              "        ...,\n",
              "        [  70,   70,    0, ...,    0,    0,    0],\n",
              "        [  70,   70,    0, ...,    0,    0,    0],\n",
              "        [  70,   70,    0, ...,    0,    0,    0]]),\n",
              " array([1, 1, 1, ..., 2, 2, 2]))"
            ]
          },
          "metadata": {},
          "execution_count": 45
        }
      ],
      "source": [
        "X, y"
      ]
    },
    {
      "cell_type": "markdown",
      "source": [
        "### Spliting Train and Test set"
      ],
      "metadata": {
        "id": "A9Bw3afiHIt0"
      }
    },
    {
      "cell_type": "code",
      "execution_count": 46,
      "metadata": {
        "colab": {
          "base_uri": "https://localhost:8080/",
          "height": 0
        },
        "id": "36btD6BgUbg6",
        "outputId": "a97147a1-f419-4060-dbbc-4908a6034106"
      },
      "outputs": [
        {
          "output_type": "execute_result",
          "data": {
            "text/plain": [
              "((49106, 23), (49106,), (16369, 23), (16369,))"
            ]
          },
          "metadata": {},
          "execution_count": 46
        }
      ],
      "source": [
        "from sklearn.model_selection import train_test_split\n",
        "\n",
        "X_train, X_test, y_train, y_test = train_test_split(X, y, test_size=0.25, random_state=0)\n",
        "X_train.shape, y_train.shape, X_test.shape, y_test.shape"
      ]
    },
    {
      "cell_type": "code",
      "source": [
        "pd.DataFrame(y_train).value_counts(normalize=True)"
      ],
      "metadata": {
        "colab": {
          "base_uri": "https://localhost:8080/",
          "height": 0
        },
        "id": "6KfpOHlvfBRS",
        "outputId": "fcaa228b-5db4-4ccf-a889-315ca0fabe37"
      },
      "execution_count": 47,
      "outputs": [
        {
          "output_type": "execute_result",
          "data": {
            "text/plain": [
              "1    0.574390\n",
              "0    0.227447\n",
              "2    0.198163\n",
              "dtype: float64"
            ]
          },
          "metadata": {},
          "execution_count": 47
        }
      ]
    },
    {
      "cell_type": "markdown",
      "source": [
        "### Handling Imabalance in Target Variable\n",
        "SMOTE Over Sampling Technique"
      ],
      "metadata": {
        "id": "fvmi9TenHMsY"
      }
    },
    {
      "cell_type": "code",
      "source": [
        "from imblearn.over_sampling import SMOTE\n",
        "\n",
        "smote = SMOTE(random_state=0)\n",
        "X_train_smote, y_train_smote= smote.fit_resample(X_train, y_train)\n",
        "pd.DataFrame(y_train_smote).value_counts(normalize=True)"
      ],
      "metadata": {
        "colab": {
          "base_uri": "https://localhost:8080/",
          "height": 0
        },
        "id": "Z8tNMbN6fe1p",
        "outputId": "d965ca7d-b99c-43a4-bf77-293a0e89aef7"
      },
      "execution_count": 48,
      "outputs": [
        {
          "output_type": "execute_result",
          "data": {
            "text/plain": [
              "0    0.333333\n",
              "1    0.333333\n",
              "2    0.333333\n",
              "dtype: float64"
            ]
          },
          "metadata": {},
          "execution_count": 48
        }
      ]
    },
    {
      "cell_type": "markdown",
      "source": [
        "## Model Building"
      ],
      "metadata": {
        "id": "CKv3owi8HV-3"
      }
    },
    {
      "cell_type": "code",
      "execution_count": 49,
      "metadata": {
        "id": "v4QpSYccU19q"
      },
      "outputs": [],
      "source": [
        "import tensorflow as tf\n",
        "from tensorflow.keras import Sequential\n",
        "from tensorflow.keras import layers"
      ]
    },
    {
      "cell_type": "code",
      "execution_count": 50,
      "metadata": {
        "colab": {
          "base_uri": "https://localhost:8080/",
          "height": 0
        },
        "id": "nwo_C4e_QGQv",
        "outputId": "29af5393-a7e8-40cd-af27-502dc087a3cd"
      },
      "outputs": [
        {
          "output_type": "execute_result",
          "data": {
            "text/plain": [
              "(23,)"
            ]
          },
          "metadata": {},
          "execution_count": 50
        }
      ],
      "source": [
        "X_train[0].shape"
      ]
    },
    {
      "cell_type": "code",
      "source": [
        "from keras.callbacks import EarlyStopping\n",
        "early_stopping = EarlyStopping(monitor='loss', min_delta=0, patience=3, verbose=0, mode='auto')"
      ],
      "metadata": {
        "id": "gA9_IT0fhhwK"
      },
      "execution_count": 51,
      "outputs": []
    },
    {
      "cell_type": "markdown",
      "source": [
        "### Neural Network"
      ],
      "metadata": {
        "id": "pYETt5KwHYW3"
      }
    },
    {
      "cell_type": "code",
      "source": [
        "model = Sequential()\n",
        "model.add(layers.Dense(50, input_shape=(23,), activation='relu'))\n",
        "model.add(layers.Dense(25, activation='relu'))\n",
        "model.add(layers.Dense(3, activation='softmax'))\n",
        "\n",
        "model.compile(optimizer=\"adam\", loss=\"sparse_categorical_crossentropy\", metrics=['accuracy'])\n",
        "history = model.fit(X_train, y_train, batch_size=34, epochs=50, callbacks=[early_stopping])"
      ],
      "metadata": {
        "colab": {
          "base_uri": "https://localhost:8080/",
          "height": 0
        },
        "id": "ZuqT83N4gGha",
        "outputId": "733655c7-2658-49c1-acba-37b3751e3c4d"
      },
      "execution_count": 52,
      "outputs": [
        {
          "output_type": "stream",
          "name": "stdout",
          "text": [
            "Epoch 1/50\n",
            "1445/1445 [==============================] - 6s 3ms/step - loss: 49.3108 - accuracy: 0.9349\n",
            "Epoch 2/50\n",
            "1445/1445 [==============================] - 4s 3ms/step - loss: 0.4914 - accuracy: 0.9608\n",
            "Epoch 3/50\n",
            "1445/1445 [==============================] - 4s 3ms/step - loss: 0.0316 - accuracy: 0.9966\n",
            "Epoch 4/50\n",
            "1445/1445 [==============================] - 4s 3ms/step - loss: 0.5031 - accuracy: 0.9769\n",
            "Epoch 5/50\n",
            "1445/1445 [==============================] - 4s 3ms/step - loss: 0.0206 - accuracy: 0.9985\n",
            "Epoch 6/50\n",
            "1445/1445 [==============================] - 4s 2ms/step - loss: 0.0227 - accuracy: 0.9982\n",
            "Epoch 7/50\n",
            "1445/1445 [==============================] - 4s 3ms/step - loss: 0.0135 - accuracy: 0.9984\n",
            "Epoch 8/50\n",
            "1445/1445 [==============================] - 4s 3ms/step - loss: 0.3724 - accuracy: 0.9756\n",
            "Epoch 9/50\n",
            "1445/1445 [==============================] - 4s 3ms/step - loss: 0.4443 - accuracy: 0.9878\n",
            "Epoch 10/50\n",
            "1445/1445 [==============================] - 4s 3ms/step - loss: 0.5160 - accuracy: 0.9951\n"
          ]
        }
      ]
    },
    {
      "cell_type": "code",
      "source": [
        "model.evaluate(X_test, y_test)"
      ],
      "metadata": {
        "colab": {
          "base_uri": "https://localhost:8080/",
          "height": 0
        },
        "id": "me-TxMO_iMmV",
        "outputId": "d54b2e7a-b944-435f-8ad0-09b6753868b5"
      },
      "execution_count": 53,
      "outputs": [
        {
          "output_type": "stream",
          "name": "stdout",
          "text": [
            "512/512 [==============================] - 1s 2ms/step - loss: 0.0740 - accuracy: 0.9970\n"
          ]
        },
        {
          "output_type": "execute_result",
          "data": {
            "text/plain": [
              "[0.07399451732635498, 0.9970065355300903]"
            ]
          },
          "metadata": {},
          "execution_count": 53
        }
      ]
    },
    {
      "cell_type": "code",
      "source": [
        "y_pred = np.argmax(model.predict(X_test), axis=1)"
      ],
      "metadata": {
        "colab": {
          "base_uri": "https://localhost:8080/",
          "height": 0
        },
        "id": "EbP_ca7Nipv8",
        "outputId": "000d7f72-10c7-4cca-8d9e-22c31d4f11c8"
      },
      "execution_count": 54,
      "outputs": [
        {
          "output_type": "stream",
          "name": "stdout",
          "text": [
            "512/512 [==============================] - 1s 2ms/step\n"
          ]
        }
      ]
    },
    {
      "cell_type": "code",
      "source": [
        "X_train.shape"
      ],
      "metadata": {
        "colab": {
          "base_uri": "https://localhost:8080/",
          "height": 0
        },
        "id": "K_MCYbe1jlHS",
        "outputId": "7ab9a534-b3f4-4ec5-b7dd-a9a9f7e76426"
      },
      "execution_count": 55,
      "outputs": [
        {
          "output_type": "execute_result",
          "data": {
            "text/plain": [
              "(49106, 23)"
            ]
          },
          "metadata": {},
          "execution_count": 55
        }
      ]
    },
    {
      "cell_type": "markdown",
      "source": [
        "### Ensembled Neural Network"
      ],
      "metadata": {
        "id": "UX828KjsHcRo"
      }
    },
    {
      "cell_type": "code",
      "execution_count": 56,
      "metadata": {
        "id": "TJwfTLr5jZWD"
      },
      "outputs": [],
      "source": [
        "subsets = []\n",
        "for _ in range(10):\n",
        "  index = np.random.randint(0,X_train.shape[0], size=1000)\n",
        "  X_sub = X_train[index]\n",
        "  y_sub = y_train[index]\n",
        "  subsets.append([X_sub, y_sub])"
      ]
    },
    {
      "cell_type": "code",
      "execution_count": 57,
      "metadata": {
        "colab": {
          "base_uri": "https://localhost:8080/",
          "height": 0
        },
        "id": "-M9L5aifkLwN",
        "outputId": "6743b772-95ef-4f20-c4e7-04c7974aeb6c"
      },
      "outputs": [
        {
          "output_type": "execute_result",
          "data": {
            "text/plain": [
              "(array([202, 103,  99,   2,  31,   1,   1,   0,   0,   0,   0,   0,   1,\n",
              "          0,   0,   1,   0,   0,   1,   0,   0,   1,   0]),\n",
              " 1)"
            ]
          },
          "metadata": {},
          "execution_count": 57
        }
      ],
      "source": [
        "subsets[0][0][0], subsets[0][1][0]"
      ]
    },
    {
      "cell_type": "code",
      "execution_count": 58,
      "metadata": {
        "id": "BsxMPBASldtD"
      },
      "outputs": [],
      "source": [
        "def build_model(i):\n",
        "  sub_model = Sequential()\n",
        "  sub_model.add(layers.Dense(50, activation='relu'))\n",
        "  sub_model.add(layers.Dense(25, activation='relu'))\n",
        "  sub_model.add(layers.Dense(3, activation='softmax'))\n",
        "\n",
        "  print(f\"Building model {i}\")\n",
        "  sub_model.compile(optimizer=\"adam\", loss=\"sparse_categorical_crossentropy\", metrics=['accuracy'])\n",
        "  sub_model.fit(X_train, y_train, batch_size=34, epochs=8, callbacks=[early_stopping], verbose=False)\n",
        "  print(f\"model {i} built\")\n",
        "  return sub_model"
      ]
    },
    {
      "cell_type": "code",
      "execution_count": 59,
      "metadata": {
        "colab": {
          "base_uri": "https://localhost:8080/",
          "height": 0
        },
        "id": "8j1Mm01IkvNk",
        "outputId": "591fbf72-a2d6-44bf-f8d1-084aa871dfd6"
      },
      "outputs": [
        {
          "output_type": "stream",
          "name": "stderr",
          "text": [
            "\r  0%|          | 0/10 [00:00<?, ?it/s]"
          ]
        },
        {
          "output_type": "stream",
          "name": "stdout",
          "text": [
            "Building model 0\n"
          ]
        },
        {
          "output_type": "stream",
          "name": "stderr",
          "text": [
            "\r 10%|█         | 1/10 [00:17<02:34, 17.12s/it]"
          ]
        },
        {
          "output_type": "stream",
          "name": "stdout",
          "text": [
            "model 0 built\n",
            "Building model 1\n"
          ]
        },
        {
          "output_type": "stream",
          "name": "stderr",
          "text": [
            "\r 20%|██        | 2/10 [00:41<02:51, 21.41s/it]"
          ]
        },
        {
          "output_type": "stream",
          "name": "stdout",
          "text": [
            "model 1 built\n",
            "Building model 2\n"
          ]
        },
        {
          "output_type": "stream",
          "name": "stderr",
          "text": [
            "\r 30%|███       | 3/10 [00:58<02:15, 19.36s/it]"
          ]
        },
        {
          "output_type": "stream",
          "name": "stdout",
          "text": [
            "model 2 built\n",
            "Building model 3\n"
          ]
        },
        {
          "output_type": "stream",
          "name": "stderr",
          "text": [
            "\r 40%|████      | 4/10 [01:15<01:50, 18.49s/it]"
          ]
        },
        {
          "output_type": "stream",
          "name": "stdout",
          "text": [
            "model 3 built\n",
            "Building model 4\n"
          ]
        },
        {
          "output_type": "stream",
          "name": "stderr",
          "text": [
            "\r 50%|█████     | 5/10 [01:32<01:29, 17.97s/it]"
          ]
        },
        {
          "output_type": "stream",
          "name": "stdout",
          "text": [
            "model 4 built\n",
            "Building model 5\n"
          ]
        },
        {
          "output_type": "stream",
          "name": "stderr",
          "text": [
            "\r 60%|██████    | 6/10 [01:52<01:14, 18.74s/it]"
          ]
        },
        {
          "output_type": "stream",
          "name": "stdout",
          "text": [
            "model 5 built\n",
            "Building model 6\n"
          ]
        },
        {
          "output_type": "stream",
          "name": "stderr",
          "text": [
            "\r 70%|███████   | 7/10 [02:19<01:03, 21.26s/it]"
          ]
        },
        {
          "output_type": "stream",
          "name": "stdout",
          "text": [
            "model 6 built\n",
            "Building model 7\n"
          ]
        },
        {
          "output_type": "stream",
          "name": "stderr",
          "text": [
            "\r 80%|████████  | 8/10 [02:39<00:41, 20.90s/it]"
          ]
        },
        {
          "output_type": "stream",
          "name": "stdout",
          "text": [
            "model 7 built\n",
            "Building model 8\n"
          ]
        },
        {
          "output_type": "stream",
          "name": "stderr",
          "text": [
            "\r 90%|█████████ | 9/10 [03:06<00:22, 22.66s/it]"
          ]
        },
        {
          "output_type": "stream",
          "name": "stdout",
          "text": [
            "model 8 built\n",
            "Building model 9\n"
          ]
        },
        {
          "output_type": "stream",
          "name": "stderr",
          "text": [
            "100%|██████████| 10/10 [03:26<00:00, 20.63s/it]"
          ]
        },
        {
          "output_type": "stream",
          "name": "stdout",
          "text": [
            "model 9 built\n"
          ]
        },
        {
          "output_type": "stream",
          "name": "stderr",
          "text": [
            "\n"
          ]
        }
      ],
      "source": [
        "from tqdm import tqdm\n",
        "models = []\n",
        "for i in tqdm(range(10)):\n",
        "  models.append(build_model(i))"
      ]
    },
    {
      "cell_type": "code",
      "source": [
        "def pred_mass(X_test):\n",
        "  preds = []\n",
        "  for m in models:\n",
        "    pred = pred = np.argmax(m.predict(X_test, verbose=0), axis=1)\n",
        "    preds.append(pred)\n",
        "  preds = np.array(preds).T\n",
        "  finals = []\n",
        "  for pred in preds:\n",
        "    finals.append(np.bincount(pred).argmax())\n",
        "  return np.array(finals)"
      ],
      "metadata": {
        "id": "veDoWyypmE2-"
      },
      "execution_count": 60,
      "outputs": []
    },
    {
      "cell_type": "code",
      "source": [
        "preds = pred_mass(X_test)"
      ],
      "metadata": {
        "id": "ePMjSi3opJHg"
      },
      "execution_count": 61,
      "outputs": []
    },
    {
      "cell_type": "code",
      "source": [
        "preds.shape"
      ],
      "metadata": {
        "colab": {
          "base_uri": "https://localhost:8080/",
          "height": 0
        },
        "id": "GYViPLhNqGPV",
        "outputId": "69eb2a9a-334b-4da3-9116-bf182f36d3e6"
      },
      "execution_count": 62,
      "outputs": [
        {
          "output_type": "execute_result",
          "data": {
            "text/plain": [
              "(16369,)"
            ]
          },
          "metadata": {},
          "execution_count": 62
        }
      ]
    },
    {
      "cell_type": "code",
      "source": [
        "y_test.shape"
      ],
      "metadata": {
        "colab": {
          "base_uri": "https://localhost:8080/",
          "height": 0
        },
        "id": "oIAQQu2hqIpf",
        "outputId": "1786fccf-f1d1-4724-e152-62540e6b8934"
      },
      "execution_count": 63,
      "outputs": [
        {
          "output_type": "execute_result",
          "data": {
            "text/plain": [
              "(16369,)"
            ]
          },
          "metadata": {},
          "execution_count": 63
        }
      ]
    },
    {
      "cell_type": "code",
      "source": [
        "preds, y_test"
      ],
      "metadata": {
        "colab": {
          "base_uri": "https://localhost:8080/",
          "height": 0
        },
        "id": "LJFUS5JYqLfg",
        "outputId": "1c9237aa-1a3e-4e0d-9331-efb9b5e0383c"
      },
      "execution_count": 64,
      "outputs": [
        {
          "output_type": "execute_result",
          "data": {
            "text/plain": [
              "(array([1, 2, 1, ..., 2, 1, 0]), array([1, 2, 1, ..., 2, 1, 0]))"
            ]
          },
          "metadata": {},
          "execution_count": 64
        }
      ]
    },
    {
      "cell_type": "code",
      "source": [
        "from sklearn.metrics import accuracy_score, precision_recall_fscore_support\n",
        "\n",
        "acc_e = accuracy_score(y_test, preds)\n",
        "precision_e, recall_e, f_score_e, support_e = precision_recall_fscore_support(y_test, preds)"
      ],
      "metadata": {
        "id": "h2YKHtj7sT-J"
      },
      "execution_count": 65,
      "outputs": []
    },
    {
      "cell_type": "code",
      "source": [
        "from sklearn.metrics import accuracy_score, precision_recall_fscore_support\n",
        "\n",
        "acc_n = accuracy_score(y_test, y_pred)\n",
        "precision_n, recall_n, f_score_n, support_n = precision_recall_fscore_support(y_test, y_pred)"
      ],
      "metadata": {
        "id": "VkNxKCqnsfWQ"
      },
      "execution_count": 66,
      "outputs": []
    },
    {
      "cell_type": "markdown",
      "source": [
        "### Decision Tree"
      ],
      "metadata": {
        "id": "hcO-QyfJHivi"
      }
    },
    {
      "cell_type": "code",
      "execution_count": 67,
      "metadata": {
        "id": "bMwObzGGfSl5"
      },
      "outputs": [],
      "source": [
        "from sklearn.tree import DecisionTreeClassifier\n",
        "\n",
        "tree = DecisionTreeClassifier()\n",
        "tree.fit(X_train, y_train)\n",
        "from sklearn.metrics import accuracy_score\n",
        "\n",
        "acc_d = accuracy_score(y_test, tree.predict(X_test))\n",
        "precision_d, recall_d, f_score_d, support_d = precision_recall_fscore_support(y_test, tree.predict(X_test))"
      ]
    },
    {
      "cell_type": "markdown",
      "source": [
        "### Random Forest"
      ],
      "metadata": {
        "id": "0s84IOYhHlKK"
      }
    },
    {
      "cell_type": "code",
      "execution_count": 68,
      "metadata": {
        "id": "8vzo2UfJcKkW"
      },
      "outputs": [],
      "source": [
        "from sklearn.ensemble import RandomForestClassifier\n",
        "\n",
        "rf = RandomForestClassifier(n_estimators=10)\n",
        "rf.fit(X_train, y_train)\n",
        "from sklearn.metrics import accuracy_score, precision_score, recall_score\n",
        "\n",
        "acc_r = accuracy_score(y_test, rf.predict(X_test))\n",
        "precision_r, recall_r, f_score_r, support_r = precision_recall_fscore_support(y_test, tree.predict(X_test))"
      ]
    },
    {
      "cell_type": "markdown",
      "source": [
        "## Evaluation Metrics for all 4 models"
      ],
      "metadata": {
        "id": "8iSNxp22HnWc"
      }
    },
    {
      "cell_type": "code",
      "source": [
        "stats = pd.DataFrame({\"models\": [\"Neural Network\", \"Ensembles-NN\", \"Decision Tree\", \"Random Forest\"], \n",
        "                      \"accuracy\": [acc_n, acc_e, acc_d, acc_r], \n",
        "                      \"precision 0\": [precision_n[0], precision_e[0], precision_d[0], precision_r[0]], \n",
        "                      \"precision 1\": [precision_n[1], precision_e[1], precision_d[1], precision_r[1]], \n",
        "                      \"precision 2\": [precision_n[2], precision_e[2], precision_d[2], precision_r[2]], \n",
        "                      \"recall 0\": [recall_n[0], recall_e[0], recall_d[0], recall_r[0]], \n",
        "                      \"recall 1\": [recall_n[1], recall_e[1], recall_d[1], recall_r[1]], \n",
        "                      \"recall 2\": [recall_n[2], recall_e[2], recall_d[2], recall_r[2]], \n",
        "                      \"f_score 0\": [f_score_n[0], f_score_e[0], f_score_d[0], f_score_r[0]], \n",
        "                      \"f_score 1\": [f_score_n[1], f_score_e[1], f_score_d[1], f_score_r[1]], \n",
        "                      \"f_score 2\": [f_score_n[2], f_score_e[2], f_score_d[2], f_score_r[2]], \n",
        "                      \"support 0\": [support_n[0], support_e[0], support_d[0], support_r[0]], \n",
        "                      \"support 1\": [support_n[1], support_e[1], support_d[1], support_r[1]], \n",
        "                      \"support 2\": [support_n[2], support_e[2], support_d[2], support_r[2]]\n",
        "                      })\n",
        "stats"
      ],
      "metadata": {
        "colab": {
          "base_uri": "https://localhost:8080/",
          "height": 175
        },
        "id": "kYru710ltfRF",
        "outputId": "2b742446-33e8-40eb-a274-16e3ed0ffbda"
      },
      "execution_count": 69,
      "outputs": [
        {
          "output_type": "execute_result",
          "data": {
            "text/plain": [
              "           models  accuracy  precision 0  precision 1  precision 2  recall 0  \\\n",
              "0  Neural Network  0.997007     0.996576     0.997880     0.994898  0.991095   \n",
              "1    Ensembles-NN  0.998351     0.995815     0.999894     0.996805  0.997119   \n",
              "2   Decision Tree  0.999145     0.999213     0.999894     0.996805  0.997119   \n",
              "3   Random Forest  0.999145     0.999213     0.999894     0.996805  0.997119   \n",
              "\n",
              "   recall 1  recall 2  f_score 0  f_score 1  f_score 2  support 0  support 1  \\\n",
              "0  0.998410       1.0   0.993828   0.998145   0.997442       3818       9431   \n",
              "1  0.998303       1.0   0.996466   0.999098   0.998400       3818       9431   \n",
              "2  0.999682       1.0   0.998165   0.999788   0.998400       3818       9431   \n",
              "3  0.999682       1.0   0.998165   0.999788   0.998400       3818       9431   \n",
              "\n",
              "   support 2  \n",
              "0       3120  \n",
              "1       3120  \n",
              "2       3120  \n",
              "3       3120  "
            ],
            "text/html": [
              "\n",
              "  <div id=\"df-8fc7aa2b-eb20-4d04-b13f-4f3430c53d77\">\n",
              "    <div class=\"colab-df-container\">\n",
              "      <div>\n",
              "<style scoped>\n",
              "    .dataframe tbody tr th:only-of-type {\n",
              "        vertical-align: middle;\n",
              "    }\n",
              "\n",
              "    .dataframe tbody tr th {\n",
              "        vertical-align: top;\n",
              "    }\n",
              "\n",
              "    .dataframe thead th {\n",
              "        text-align: right;\n",
              "    }\n",
              "</style>\n",
              "<table border=\"1\" class=\"dataframe\">\n",
              "  <thead>\n",
              "    <tr style=\"text-align: right;\">\n",
              "      <th></th>\n",
              "      <th>models</th>\n",
              "      <th>accuracy</th>\n",
              "      <th>precision 0</th>\n",
              "      <th>precision 1</th>\n",
              "      <th>precision 2</th>\n",
              "      <th>recall 0</th>\n",
              "      <th>recall 1</th>\n",
              "      <th>recall 2</th>\n",
              "      <th>f_score 0</th>\n",
              "      <th>f_score 1</th>\n",
              "      <th>f_score 2</th>\n",
              "      <th>support 0</th>\n",
              "      <th>support 1</th>\n",
              "      <th>support 2</th>\n",
              "    </tr>\n",
              "  </thead>\n",
              "  <tbody>\n",
              "    <tr>\n",
              "      <th>0</th>\n",
              "      <td>Neural Network</td>\n",
              "      <td>0.997007</td>\n",
              "      <td>0.996576</td>\n",
              "      <td>0.997880</td>\n",
              "      <td>0.994898</td>\n",
              "      <td>0.991095</td>\n",
              "      <td>0.998410</td>\n",
              "      <td>1.0</td>\n",
              "      <td>0.993828</td>\n",
              "      <td>0.998145</td>\n",
              "      <td>0.997442</td>\n",
              "      <td>3818</td>\n",
              "      <td>9431</td>\n",
              "      <td>3120</td>\n",
              "    </tr>\n",
              "    <tr>\n",
              "      <th>1</th>\n",
              "      <td>Ensembles-NN</td>\n",
              "      <td>0.998351</td>\n",
              "      <td>0.995815</td>\n",
              "      <td>0.999894</td>\n",
              "      <td>0.996805</td>\n",
              "      <td>0.997119</td>\n",
              "      <td>0.998303</td>\n",
              "      <td>1.0</td>\n",
              "      <td>0.996466</td>\n",
              "      <td>0.999098</td>\n",
              "      <td>0.998400</td>\n",
              "      <td>3818</td>\n",
              "      <td>9431</td>\n",
              "      <td>3120</td>\n",
              "    </tr>\n",
              "    <tr>\n",
              "      <th>2</th>\n",
              "      <td>Decision Tree</td>\n",
              "      <td>0.999145</td>\n",
              "      <td>0.999213</td>\n",
              "      <td>0.999894</td>\n",
              "      <td>0.996805</td>\n",
              "      <td>0.997119</td>\n",
              "      <td>0.999682</td>\n",
              "      <td>1.0</td>\n",
              "      <td>0.998165</td>\n",
              "      <td>0.999788</td>\n",
              "      <td>0.998400</td>\n",
              "      <td>3818</td>\n",
              "      <td>9431</td>\n",
              "      <td>3120</td>\n",
              "    </tr>\n",
              "    <tr>\n",
              "      <th>3</th>\n",
              "      <td>Random Forest</td>\n",
              "      <td>0.999145</td>\n",
              "      <td>0.999213</td>\n",
              "      <td>0.999894</td>\n",
              "      <td>0.996805</td>\n",
              "      <td>0.997119</td>\n",
              "      <td>0.999682</td>\n",
              "      <td>1.0</td>\n",
              "      <td>0.998165</td>\n",
              "      <td>0.999788</td>\n",
              "      <td>0.998400</td>\n",
              "      <td>3818</td>\n",
              "      <td>9431</td>\n",
              "      <td>3120</td>\n",
              "    </tr>\n",
              "  </tbody>\n",
              "</table>\n",
              "</div>\n",
              "      <button class=\"colab-df-convert\" onclick=\"convertToInteractive('df-8fc7aa2b-eb20-4d04-b13f-4f3430c53d77')\"\n",
              "              title=\"Convert this dataframe to an interactive table.\"\n",
              "              style=\"display:none;\">\n",
              "        \n",
              "  <svg xmlns=\"http://www.w3.org/2000/svg\" height=\"24px\"viewBox=\"0 0 24 24\"\n",
              "       width=\"24px\">\n",
              "    <path d=\"M0 0h24v24H0V0z\" fill=\"none\"/>\n",
              "    <path d=\"M18.56 5.44l.94 2.06.94-2.06 2.06-.94-2.06-.94-.94-2.06-.94 2.06-2.06.94zm-11 1L8.5 8.5l.94-2.06 2.06-.94-2.06-.94L8.5 2.5l-.94 2.06-2.06.94zm10 10l.94 2.06.94-2.06 2.06-.94-2.06-.94-.94-2.06-.94 2.06-2.06.94z\"/><path d=\"M17.41 7.96l-1.37-1.37c-.4-.4-.92-.59-1.43-.59-.52 0-1.04.2-1.43.59L10.3 9.45l-7.72 7.72c-.78.78-.78 2.05 0 2.83L4 21.41c.39.39.9.59 1.41.59.51 0 1.02-.2 1.41-.59l7.78-7.78 2.81-2.81c.8-.78.8-2.07 0-2.86zM5.41 20L4 18.59l7.72-7.72 1.47 1.35L5.41 20z\"/>\n",
              "  </svg>\n",
              "      </button>\n",
              "      \n",
              "  <style>\n",
              "    .colab-df-container {\n",
              "      display:flex;\n",
              "      flex-wrap:wrap;\n",
              "      gap: 12px;\n",
              "    }\n",
              "\n",
              "    .colab-df-convert {\n",
              "      background-color: #E8F0FE;\n",
              "      border: none;\n",
              "      border-radius: 50%;\n",
              "      cursor: pointer;\n",
              "      display: none;\n",
              "      fill: #1967D2;\n",
              "      height: 32px;\n",
              "      padding: 0 0 0 0;\n",
              "      width: 32px;\n",
              "    }\n",
              "\n",
              "    .colab-df-convert:hover {\n",
              "      background-color: #E2EBFA;\n",
              "      box-shadow: 0px 1px 2px rgba(60, 64, 67, 0.3), 0px 1px 3px 1px rgba(60, 64, 67, 0.15);\n",
              "      fill: #174EA6;\n",
              "    }\n",
              "\n",
              "    [theme=dark] .colab-df-convert {\n",
              "      background-color: #3B4455;\n",
              "      fill: #D2E3FC;\n",
              "    }\n",
              "\n",
              "    [theme=dark] .colab-df-convert:hover {\n",
              "      background-color: #434B5C;\n",
              "      box-shadow: 0px 1px 3px 1px rgba(0, 0, 0, 0.15);\n",
              "      filter: drop-shadow(0px 1px 2px rgba(0, 0, 0, 0.3));\n",
              "      fill: #FFFFFF;\n",
              "    }\n",
              "  </style>\n",
              "\n",
              "      <script>\n",
              "        const buttonEl =\n",
              "          document.querySelector('#df-8fc7aa2b-eb20-4d04-b13f-4f3430c53d77 button.colab-df-convert');\n",
              "        buttonEl.style.display =\n",
              "          google.colab.kernel.accessAllowed ? 'block' : 'none';\n",
              "\n",
              "        async function convertToInteractive(key) {\n",
              "          const element = document.querySelector('#df-8fc7aa2b-eb20-4d04-b13f-4f3430c53d77');\n",
              "          const dataTable =\n",
              "            await google.colab.kernel.invokeFunction('convertToInteractive',\n",
              "                                                     [key], {});\n",
              "          if (!dataTable) return;\n",
              "\n",
              "          const docLinkHtml = 'Like what you see? Visit the ' +\n",
              "            '<a target=\"_blank\" href=https://colab.research.google.com/notebooks/data_table.ipynb>data table notebook</a>'\n",
              "            + ' to learn more about interactive tables.';\n",
              "          element.innerHTML = '';\n",
              "          dataTable['output_type'] = 'display_data';\n",
              "          await google.colab.output.renderOutput(dataTable, element);\n",
              "          const docLink = document.createElement('div');\n",
              "          docLink.innerHTML = docLinkHtml;\n",
              "          element.appendChild(docLink);\n",
              "        }\n",
              "      </script>\n",
              "    </div>\n",
              "  </div>\n",
              "  "
            ]
          },
          "metadata": {},
          "execution_count": 69
        }
      ]
    },
    {
      "cell_type": "markdown",
      "source": [
        "GitHub Link: https://github.com/ChetanKrishna07/Internet-Firewall-Filtering"
      ],
      "metadata": {
        "id": "ZO4l3iHYE-Oz"
      }
    }
  ],
  "metadata": {
    "accelerator": "GPU",
    "colab": {
      "machine_shape": "hm",
      "provenance": [],
      "mount_file_id": "1PzAuMygo6tF0fPy-OB5YvBWvKWJ5bHd8",
      "authorship_tag": "ABX9TyMXpzFu0g5n81ChphvI25Gm",
      "include_colab_link": true
    },
    "gpuClass": "standard",
    "kernelspec": {
      "display_name": "Python 3",
      "name": "python3"
    },
    "language_info": {
      "name": "python"
    }
  },
  "nbformat": 4,
  "nbformat_minor": 0
}